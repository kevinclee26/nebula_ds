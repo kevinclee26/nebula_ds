{
 "cells": [
  {
   "cell_type": "markdown",
   "metadata": {
    "id": "ulFShDzUgJDH"
   },
   "source": [
    "## Overview\n",
    "Data visualization is a way of exploring complex patterns or large quantities of data that cannot be easily perceived by looking at table of number or reading paragraphcs of text. The goal of data visualization is to represent informaiton more clearly and concisely, and it does so by employing our innate ability to recognize visual patterns in our environment. \n",
    "* Data visualization can be exploratory in that they are created during the analysis phase. Looking at visual representation of our dataset can give us clues about what to focus on during analysis. \n",
    "* Data visualzation are also communicative in that they are created in order to present our findings to an audience. Using visual pattersn to represent patterns in data can be an effective way of explaining complex results. "
   ]
  },
  {
   "cell_type": "markdown",
   "metadata": {
    "id": "sUKmB0G7gJDJ"
   },
   "source": [
    "---\n",
    "### Agenda\n",
    "* Basic Visualization Examples\n",
    "* Import Data from External Sources\n",
    "* Visuzliation Types"
   ]
  },
  {
   "cell_type": "markdown",
   "metadata": {
    "id": "0kvab5WtgJDL"
   },
   "source": [
    "---\n",
    "### Basic Data Visualizations\n",
    "![Viz](https://raw.githubusercontent.com/kevinclee26/nebula_ds/master/class_d4/images/image3.png)\n",
    "\n",
    "#### The advantages and benefits of good data visualization: \n",
    "\n",
    "Our eyes are drawn to colors and patterns. We can quickly identify red from blue, square from circle. Our culture is visual, including everything from art and advertisements to TV and movies.\n",
    "\n",
    "Data visualization is another form of visual art that grabs our interest and keeps our eyes on the message. When we see a chart, we quickly see trends and outliers. If we can see something, we internalize it quickly. It’s storytelling with a purpose. If you’ve ever stared at a massive spreadsheet of data and couldn’t see a trend, you know how much more effective a visualization can be.\n",
    "\n",
    "As the “age of Big Data” kicks into high-gear, visualization is an increasingly key tool to make sense of the trillions of rows of data generated every day. Data visualization helps to tell stories by curating data into a form easier to understand, highlighting the trends and outliers. A good visualization tells a story, removing the noise from data and highlighting the useful information.\n",
    "\n",
    "---\n",
    "\n",
    "Let's discuss how we can choose which data visualization we should use\n",
    "\n",
    "As you think about these visualizations, consider the types of analysis: \n",
    "* Time Series - looking at data over time to identify trends\n",
    "* Segmentation Analysis - looking at data into clusters that share similar characteristics\n",
    "* Comparitive Analysis - comparing groups of data\n",
    "\n",
    "#### -=Activity=-\n",
    "In the cell below, describe what kind of information is well suited for each visualization type\n",
    "\n",
    "#### Bar Chart\n",
    "![Bar](https://raw.githubusercontent.com/kevinclee26/nebula_ds/master/class_d4/images/image4.png)"
   ]
  },
  {
   "cell_type": "markdown",
   "metadata": {},
   "source": [
    "Bar graphs are used to compare things between different groups or to track changes over time. However, when trying to measure change over time, bar graphs are best when the changes are larger."
   ]
  },
  {
   "cell_type": "markdown",
   "metadata": {
    "id": "joHmKxO5gJDM"
   },
   "source": [
    "#### -=Your Turn\n",
    "(Type Your Answers Here)"
   ]
  },
  {
   "cell_type": "markdown",
   "metadata": {
    "id": "0CLsMsH0gJDM"
   },
   "source": [
    "#### Stacked Bar Chart\n",
    "![Stacked Bar](https://raw.githubusercontent.com/kevinclee26/nebula_ds/master/class_d4/images/image5.png)"
   ]
  },
  {
   "cell_type": "markdown",
   "metadata": {
    "id": "0Q62BGajgJDO"
   },
   "source": [
    "#### -=Your Turn\n",
    "(Type Your Answer Here)"
   ]
  },
  {
   "cell_type": "markdown",
   "metadata": {
    "id": "dpCirf-FgJDW"
   },
   "source": [
    "#### Line Chart\n",
    "![Line](https://raw.githubusercontent.com/kevinclee26/nebula_ds/master/class_d4/images/image10.png)"
   ]
  },
  {
   "cell_type": "markdown",
   "metadata": {},
   "source": [
    "Line graphs are used to track changes over short and long periods of time. When smaller changes exist, line graphs are better to use than bar graphs. Line graphs can also be used to compare changes over the same period of time for more than one group.\n",
    "\n",
    "Area graphs are very similar to line graphs. They can be used to track changes over time for one or more groups. Area graphs are good to use when you are tracking the changes in two or more related groups that make up one whole category (for example public and private groups)."
   ]
  },
  {
   "cell_type": "markdown",
   "metadata": {
    "id": "BqW8utI9gJDZ"
   },
   "source": [
    "#### -=Your Turn\n",
    "(Type Your Answers Here)"
   ]
  },
  {
   "cell_type": "markdown",
   "metadata": {
    "id": "83M2TEdjgJDa"
   },
   "source": [
    "#### Radar\n",
    "![Radar](https://raw.githubusercontent.com/kevinclee26/nebula_ds/master/class_d4/images/image7.png)"
   ]
  },
  {
   "cell_type": "markdown",
   "metadata": {
    "id": "V8Pp0ttygJDb"
   },
   "source": [
    "#### -=Your Turn\n",
    "(Type Your Answers Here)"
   ]
  },
  {
   "cell_type": "markdown",
   "metadata": {
    "id": "OnbtAGW3gJDb"
   },
   "source": [
    "#### Scatter Plot\n",
    "![Scatter](https://raw.githubusercontent.com/kevinclee26/nebula_ds/master/class_d4/images/image8.png)"
   ]
  },
  {
   "cell_type": "markdown",
   "metadata": {},
   "source": [
    "X-Y plots are used to determine relationships between the two different things. The x-axis is used to measure one event (or variable) and the y-axis is used to measure the other. If both variables increase at the same time, they have a positive relationship. If one variable decreases while the other increases, they have a negative relationship. Sometimes the variables don't follow any pattern and have no relationship."
   ]
  },
  {
   "cell_type": "markdown",
   "metadata": {
    "id": "xEtHsLGTgJDc"
   },
   "source": [
    "#### -=Your Turn\n",
    "(Type Your Answers Here)"
   ]
  },
  {
   "cell_type": "markdown",
   "metadata": {
    "id": "U1pyeWUygJDd"
   },
   "source": [
    "#### Bubble Chart\n",
    "![Bubble](https://raw.githubusercontent.com/kevinclee26/nebula_ds/master/class_d4/images/image11.png)"
   ]
  },
  {
   "cell_type": "markdown",
   "metadata": {},
   "source": [
    "Pie charts are best to use when you are trying to compare parts of a whole. They do not show changes over time."
   ]
  },
  {
   "cell_type": "markdown",
   "metadata": {
    "id": "cOsJZBgagJDe"
   },
   "source": [
    "#### -=Your Turn\n",
    "(type your answer here)"
   ]
  },
  {
   "cell_type": "markdown",
   "metadata": {
    "id": "W9bSwX1ZgJDe"
   },
   "source": [
    "#### Pie Chart\n",
    "![Pie Chart](https://raw.githubusercontent.com/kevinclee26/nebula_ds/master/class_d4/images/image9.png)"
   ]
  },
  {
   "cell_type": "markdown",
   "metadata": {},
   "source": [
    "Pie charts are best to use when you are trying to compare parts of a whole. They do not show changes over time."
   ]
  },
  {
   "cell_type": "markdown",
   "metadata": {
    "id": "QZsmI9IDgJDf"
   },
   "source": [
    "#### -=Your Turn\n",
    "(Type Your Answers Here)"
   ]
  },
  {
   "cell_type": "markdown",
   "metadata": {},
   "source": [
    "---\n",
    "Before we begin... let's discuss the terminology and components of a chart: \n",
    "![compnenets](https://raw.githubusercontent.com/kevinclee26/nebula_ds/master/class_d4/images/image12.png)"
   ]
  },
  {
   "cell_type": "markdown",
   "metadata": {
    "id": "6N2UkqeRgJDf"
   },
   "source": [
    "### Importing Data from External Sources"
   ]
  },
  {
   "cell_type": "code",
   "execution_count": 1,
   "metadata": {
    "colab": {
     "base_uri": "https://localhost:8080/",
     "height": 35
    },
    "executionInfo": {
     "elapsed": 846,
     "status": "ok",
     "timestamp": 1601079878569,
     "user": {
      "displayName": "Kevin Lee",
      "photoUrl": "https://lh3.googleusercontent.com/a-/AOh14GhcI7KzMncvrm-X-r6yy5mMnsE2KpH24pgkqfLkug=s64",
      "userId": "10458473587965097684"
     },
     "user_tz": 420
    },
    "id": "6Yz6kfWTwJZP",
    "outputId": "db505884-3973-4f4d-8a96-632dd29e1fa6"
   },
   "outputs": [
    {
     "ename": "ModuleNotFoundError",
     "evalue": "No module named 'google.colab'",
     "output_type": "error",
     "traceback": [
      "\u001b[0;31m---------------------------------------------------------------------------\u001b[0m",
      "\u001b[0;31mModuleNotFoundError\u001b[0m                       Traceback (most recent call last)",
      "\u001b[0;32m<ipython-input-1-d5df0069828e>\u001b[0m in \u001b[0;36m<module>\u001b[0;34m\u001b[0m\n\u001b[0;32m----> 1\u001b[0;31m \u001b[0;32mfrom\u001b[0m \u001b[0mgoogle\u001b[0m\u001b[0;34m.\u001b[0m\u001b[0mcolab\u001b[0m \u001b[0;32mimport\u001b[0m \u001b[0mdrive\u001b[0m\u001b[0;34m\u001b[0m\u001b[0;34m\u001b[0m\u001b[0m\n\u001b[0m\u001b[1;32m      2\u001b[0m \u001b[0mdrive\u001b[0m\u001b[0;34m.\u001b[0m\u001b[0mmount\u001b[0m\u001b[0;34m(\u001b[0m\u001b[0;34m'/content/drive'\u001b[0m\u001b[0;34m)\u001b[0m\u001b[0;34m\u001b[0m\u001b[0;34m\u001b[0m\u001b[0m\n",
      "\u001b[0;31mModuleNotFoundError\u001b[0m: No module named 'google.colab'"
     ]
    }
   ],
   "source": [
    "from google.colab import drive\n",
    "drive.mount('/content/drive')"
   ]
  },
  {
   "cell_type": "markdown",
   "metadata": {},
   "source": [
    "#### Introducing Pandas DataFrame\n",
    "* Pandas is a popular Data Science module/library/package with an array of tools to allow for data analysis. \n",
    "* Pandas DataFrame is two-dimensional size-mutable, potentially heterogeneous tabular data structure with labeled axes (rows and columns). A Data frame is a two-dimensional data structure, i.e., data is aligned in a tabular fashion in rows and columns. Pandas DataFrame consists of three principal components, the data, rows, and columns.\n",
    "![Pandas](https://raw.githubusercontent.com/kevinclee26/nebula_ds/master/class_d4/images/image13.png)"
   ]
  },
  {
   "cell_type": "markdown",
   "metadata": {},
   "source": [
    "In the real world, a Pandas DataFrame will be created by loading the datasets from existing storage, storage can be SQL Database, CSV file, and Excel file. Pandas DataFrame can be created from the lists, dictionary, and from a list of dictionary etc. Dataframe can be created in different ways here we will load a sample csv. "
   ]
  },
  {
   "cell_type": "code",
   "execution_count": 4,
   "metadata": {
    "executionInfo": {
     "elapsed": 683,
     "status": "ok",
     "timestamp": 1601081601955,
     "user": {
      "displayName": "Kevin Lee",
      "photoUrl": "https://lh3.googleusercontent.com/a-/AOh14GhcI7KzMncvrm-X-r6yy5mMnsE2KpH24pgkqfLkug=s64",
      "userId": "10458473587965097684"
     },
     "user_tz": 420
    },
    "id": "FNuHhOzSgJDf"
   },
   "outputs": [],
   "source": [
    "import pandas as pd\n",
    "import matplotlib.pyplot as plt\n",
    "import numpy as np\n",
    "\n",
    "file_path='/content/drive/My Drive/class_d4_kl/assets/sample.csv'\n",
    "file_path='assets/sample.csv'\n",
    "# DataFrame\n",
    "df=pd.read_csv(file_path)"
   ]
  },
  {
   "cell_type": "code",
   "execution_count": 8,
   "metadata": {
    "id": "Eym3a_T2gJDi"
   },
   "outputs": [],
   "source": [
    "# If you're unable to load the data for some reason, uncomment the below lines to load the data\n",
    "# data={\n",
    "#     'X': [80, 17, 92, 88, 70, 42, 30, 87, 42, 18, 94, 54, 54, 87, 19,53, 41, 36, 60, 45, 58, 94, 86, 92, 78], \n",
    "#     'Y': [81, 88, 24, 78, 93, 83, 57, 33, 36, 28, 43, 85, 78, 12, 79, 68, 14, 51, 98, 45, 52, 34, 6, 8, 2], \n",
    "#     'Z': [13, 20, 37, 54, 90, 11, 14, 35, 20, 44, 43, 13, 56, 23, 19, 20, 97, 27, 45, 95, 41, 27, 37, 8, 50]\n",
    "# }\n",
    "# df=pd.DataFrame(data)"
   ]
  },
  {
   "cell_type": "code",
   "execution_count": 5,
   "metadata": {
    "colab": {
     "base_uri": "https://localhost:8080/",
     "height": 198
    },
    "executionInfo": {
     "elapsed": 783,
     "status": "ok",
     "timestamp": 1601080551383,
     "user": {
      "displayName": "Kevin Lee",
      "photoUrl": "https://lh3.googleusercontent.com/a-/AOh14GhcI7KzMncvrm-X-r6yy5mMnsE2KpH24pgkqfLkug=s64",
      "userId": "10458473587965097684"
     },
     "user_tz": 420
    },
    "id": "oVv4FcIpgJDm",
    "outputId": "109020c8-6526-4e1e-c57d-2ab0cd2359ee",
    "scrolled": true
   },
   "outputs": [
    {
     "data": {
      "text/html": [
       "<div>\n",
       "<style scoped>\n",
       "    .dataframe tbody tr th:only-of-type {\n",
       "        vertical-align: middle;\n",
       "    }\n",
       "\n",
       "    .dataframe tbody tr th {\n",
       "        vertical-align: top;\n",
       "    }\n",
       "\n",
       "    .dataframe thead th {\n",
       "        text-align: right;\n",
       "    }\n",
       "</style>\n",
       "<table border=\"1\" class=\"dataframe\">\n",
       "  <thead>\n",
       "    <tr style=\"text-align: right;\">\n",
       "      <th></th>\n",
       "      <th>X</th>\n",
       "      <th>Y</th>\n",
       "      <th>Z</th>\n",
       "    </tr>\n",
       "  </thead>\n",
       "  <tbody>\n",
       "    <tr>\n",
       "      <th>0</th>\n",
       "      <td>80</td>\n",
       "      <td>81</td>\n",
       "      <td>13</td>\n",
       "    </tr>\n",
       "    <tr>\n",
       "      <th>1</th>\n",
       "      <td>17</td>\n",
       "      <td>88</td>\n",
       "      <td>20</td>\n",
       "    </tr>\n",
       "    <tr>\n",
       "      <th>2</th>\n",
       "      <td>92</td>\n",
       "      <td>24</td>\n",
       "      <td>37</td>\n",
       "    </tr>\n",
       "    <tr>\n",
       "      <th>3</th>\n",
       "      <td>88</td>\n",
       "      <td>78</td>\n",
       "      <td>54</td>\n",
       "    </tr>\n",
       "    <tr>\n",
       "      <th>4</th>\n",
       "      <td>70</td>\n",
       "      <td>93</td>\n",
       "      <td>90</td>\n",
       "    </tr>\n",
       "  </tbody>\n",
       "</table>\n",
       "</div>"
      ],
      "text/plain": [
       "    X   Y   Z\n",
       "0  80  81  13\n",
       "1  17  88  20\n",
       "2  92  24  37\n",
       "3  88  78  54\n",
       "4  70  93  90"
      ]
     },
     "execution_count": 5,
     "metadata": {},
     "output_type": "execute_result"
    }
   ],
   "source": [
    "df.head()\n",
    "# df.columns"
   ]
  },
  {
   "cell_type": "markdown",
   "metadata": {},
   "source": [
    "#### Slicing the DataFrame\n",
    "The .loc property of a DataFrame gives access a group of rows and columns by label(s) or a boolean array."
   ]
  },
  {
   "cell_type": "code",
   "execution_count": 13,
   "metadata": {
    "colab": {
     "base_uri": "https://localhost:8080/",
     "height": 35
    },
    "executionInfo": {
     "elapsed": 561,
     "status": "ok",
     "timestamp": 1601080825700,
     "user": {
      "displayName": "Kevin Lee",
      "photoUrl": "https://lh3.googleusercontent.com/a-/AOh14GhcI7KzMncvrm-X-r6yy5mMnsE2KpH24pgkqfLkug=s64",
      "userId": "10458473587965097684"
     },
     "user_tz": 420
    },
    "id": "1zz2ux-30Xiv",
    "outputId": "251ad56c-fb51-40ca-ccbe-49f11971e865"
   },
   "outputs": [],
   "source": [
    "# df.loc[row, column]\n",
    "# pull the 'X' column from our DataFrame for ploting\n",
    "x_list=df.loc[:, 'X']\n",
    "# df['X']\n",
    "# np.std(x_list)"
   ]
  },
  {
   "cell_type": "markdown",
   "metadata": {
    "id": "bJW1GqWRgJDr"
   },
   "source": [
    "### Data Visualization Types\n",
    "\n",
    "Visit the documentation website for Pandas \n",
    "\n",
    "https://pandas.pydata.org/pandas-docs/stable/user_guide/visualization.html"
   ]
  },
  {
   "cell_type": "code",
   "execution_count": 16,
   "metadata": {
    "colab": {
     "base_uri": "https://localhost:8080/",
     "height": 513
    },
    "executionInfo": {
     "elapsed": 1181,
     "status": "ok",
     "timestamp": 1601081108366,
     "user": {
      "displayName": "Kevin Lee",
      "photoUrl": "https://lh3.googleusercontent.com/a-/AOh14GhcI7KzMncvrm-X-r6yy5mMnsE2KpH24pgkqfLkug=s64",
      "userId": "10458473587965097684"
     },
     "user_tz": 420
    },
    "id": "4fVxcECggJDs",
    "outputId": "3f4d7cbd-b2c1-4ddd-cdf0-7a92307d6253",
    "scrolled": false
   },
   "outputs": [
    {
     "data": {
      "image/png": "[encoded data removed]",
      "text/plain": [
       "<Figure size 432x288 with 1 Axes>"
      ]
     },
     "metadata": {
      "needs_background": "light"
     },
     "output_type": "display_data"
    },
    {
     "data": {
      "image/png": "[encoded data removed]",
      "text/plain": [
       "<Figure size 432x288 with 1 Axes>"
      ]
     },
     "metadata": {
      "needs_background": "light"
     },
     "output_type": "display_data"
    }
   ],
   "source": [
    "df.loc[:, 'X'].plot(kind='line')\n",
    "# here the code is using the index of the DataFrame (default number from 0) as the x-axis\n",
    "# we plot lines charts using values from the 'X', 'Y', and 'Z' columns of our DataFrame\n",
    "plt.show()\n",
    "df.loc[:, ['X', 'Y', 'Z']].plot(kind='line')\n",
    "plt.show()"
   ]
  },
  {
   "cell_type": "code",
   "execution_count": 65,
   "metadata": {
    "colab": {
     "base_uri": "https://localhost:8080/",
     "height": 519
    },
    "executionInfo": {
     "elapsed": 1014,
     "status": "ok",
     "timestamp": 1601081243207,
     "user": {
      "displayName": "Kevin Lee",
      "photoUrl": "https://lh3.googleusercontent.com/a-/AOh14GhcI7KzMncvrm-X-r6yy5mMnsE2KpH24pgkqfLkug=s64",
      "userId": "10458473587965097684"
     },
     "user_tz": 420
    },
    "id": "yhJru6ZigJDv",
    "outputId": "1210c57d-495e-4fb6-bd2a-34b87942e446"
   },
   "outputs": [
    {
     "data": {
      "image/png": "[encoded data removed]",
      "text/plain": [
       "<Figure size 432x288 with 1 Axes>"
      ]
     },
     "metadata": {
      "needs_background": "light",
      "tags": []
     },
     "output_type": "display_data"
    },
    {
     "data": {
      "image/png": "[encoded data removed]",
      "text/plain": [
       "<Figure size 432x288 with 1 Axes>"
      ]
     },
     "metadata": {
      "needs_background": "light",
      "tags": []
     },
     "output_type": "display_data"
    }
   ],
   "source": [
    "df.loc[:, 'X'].plot(kind='bar')\n",
    "plt.show()\n",
    "# df.loc[row, column]\n",
    "# df.loc[[row1, row2], [column1, column2]]\n",
    "df.loc[:, ['X', 'Y']].plot(kind='bar')\n",
    "plt.show()"
   ]
  },
  {
   "cell_type": "code",
   "execution_count": 66,
   "metadata": {
    "colab": {
     "base_uri": "https://localhost:8080/",
     "height": 268
    },
    "executionInfo": {
     "elapsed": 1006,
     "status": "ok",
     "timestamp": 1601081328967,
     "user": {
      "displayName": "Kevin Lee",
      "photoUrl": "https://lh3.googleusercontent.com/a-/AOh14GhcI7KzMncvrm-X-r6yy5mMnsE2KpH24pgkqfLkug=s64",
      "userId": "10458473587965097684"
     },
     "user_tz": 420
    },
    "id": "69paXj-pgJDx",
    "outputId": "deef5b56-36a4-458a-965f-de7da9f11992",
    "scrolled": true
   },
   "outputs": [
    {
     "data": {
      "image/png": "[encoded data removed]",
      "text/plain": [
       "<Figure size 432x288 with 1 Axes>"
      ]
     },
     "metadata": {
      "needs_background": "light",
      "tags": []
     },
     "output_type": "display_data"
    }
   ],
   "source": [
    "df.loc[:, ['X', 'Y', 'Z']].plot(kind='bar', stacked=True)\n",
    "plt.show()"
   ]
  },
  {
   "cell_type": "code",
   "execution_count": 76,
   "metadata": {
    "colab": {
     "base_uri": "https://localhost:8080/",
     "height": 279
    },
    "executionInfo": {
     "elapsed": 659,
     "status": "ok",
     "timestamp": 1601081521263,
     "user": {
      "displayName": "Kevin Lee",
      "photoUrl": "https://lh3.googleusercontent.com/a-/AOh14GhcI7KzMncvrm-X-r6yy5mMnsE2KpH24pgkqfLkug=s64",
      "userId": "10458473587965097684"
     },
     "user_tz": 420
    },
    "id": "MuCtLVnHgJDz",
    "outputId": "1e2e4fcc-f0a1-44ab-f46b-4f8a0fe14ba0",
    "scrolled": false
   },
   "outputs": [
    {
     "data": {
      "image/png": "[encoded data removed]",
      "text/plain": [
       "<Figure size 432x288 with 1 Axes>"
      ]
     },
     "metadata": {
      "needs_background": "light",
      "tags": []
     },
     "output_type": "display_data"
    }
   ],
   "source": [
    "# df.loc[row, column(s)]\n",
    "df.loc[:, ['X', 'Y']].plot(kind='scatter', x='X', y='Y')\n",
    "plt.show()"
   ]
  },
  {
   "cell_type": "code",
   "execution_count": 18,
   "metadata": {
    "colab": {
     "base_uri": "https://localhost:8080/",
     "height": 614
    },
    "executionInfo": {
     "elapsed": 684,
     "status": "error",
     "timestamp": 1601081677175,
     "user": {
      "displayName": "Kevin Lee",
      "photoUrl": "https://lh3.googleusercontent.com/a-/AOh14GhcI7KzMncvrm-X-r6yy5mMnsE2KpH24pgkqfLkug=s64",
      "userId": "10458473587965097684"
     },
     "user_tz": 420
    },
    "id": "e75ArX3tgJD4",
    "outputId": "b3f45bae-bfbf-403f-9125-3d108b5cc7aa"
   },
   "outputs": [
    {
     "data": {
      "image/png": "[encoded data removed]",
      "text/plain": [
       "<Figure size 432x288 with 1 Axes>"
      ]
     },
     "metadata": {
      "needs_background": "light"
     },
     "output_type": "display_data"
    }
   ],
   "source": [
    "# we can change the size of the dots with the s parameters\n",
    "df.loc[:, ['X', 'Y', 'Z']].plot(kind='scatter', x='X', y='Y', s='Z')\n",
    "# df.plot(kind='scatter', x='X', y='Y', s='Z')\n",
    "plt.show()"
   ]
  },
  {
   "cell_type": "code",
   "execution_count": 84,
   "metadata": {
    "colab": {
     "base_uri": "https://localhost:8080/",
     "height": 265
    },
    "executionInfo": {
     "elapsed": 712,
     "status": "ok",
     "timestamp": 1601081733472,
     "user": {
      "displayName": "Kevin Lee",
      "photoUrl": "https://lh3.googleusercontent.com/a-/AOh14GhcI7KzMncvrm-X-r6yy5mMnsE2KpH24pgkqfLkug=s64",
      "userId": "10458473587965097684"
     },
     "user_tz": 420
    },
    "id": "yboBQ6eUgJD8",
    "outputId": "c44b27af-c544-4175-c1fe-f2e6fec93355",
    "scrolled": true
   },
   "outputs": [
    {
     "data": {
      "image/png": "[encoded data removed]",
      "text/plain": [
       "<Figure size 432x288 with 1 Axes>"
      ]
     },
     "metadata": {
      "needs_background": "light",
      "tags": []
     },
     "output_type": "display_data"
    }
   ],
   "source": [
    "df.loc[:, ['X', 'Y', 'Z']].boxplot()\n",
    "plt.show()"
   ]
  },
  {
   "cell_type": "code",
   "execution_count": 103,
   "metadata": {
    "colab": {
     "base_uri": "https://localhost:8080/",
     "height": 198
    },
    "executionInfo": {
     "elapsed": 715,
     "status": "ok",
     "timestamp": 1601082239478,
     "user": {
      "displayName": "Kevin Lee",
      "photoUrl": "https://lh3.googleusercontent.com/a-/AOh14GhcI7KzMncvrm-X-r6yy5mMnsE2KpH24pgkqfLkug=s64",
      "userId": "10458473587965097684"
     },
     "user_tz": 420
    },
    "id": "_DE8OX26gJEA",
    "outputId": "97469cda-c17c-4925-f721-7457a4b13832"
   },
   "outputs": [
    {
     "data": {
      "text/html": [
       "<div>\n",
       "<style scoped>\n",
       "    .dataframe tbody tr th:only-of-type {\n",
       "        vertical-align: middle;\n",
       "    }\n",
       "\n",
       "    .dataframe tbody tr th {\n",
       "        vertical-align: top;\n",
       "    }\n",
       "\n",
       "    .dataframe thead th {\n",
       "        text-align: right;\n",
       "    }\n",
       "</style>\n",
       "<table border=\"1\" class=\"dataframe\">\n",
       "  <thead>\n",
       "    <tr style=\"text-align: right;\">\n",
       "      <th></th>\n",
       "      <th>X</th>\n",
       "      <th>Y</th>\n",
       "      <th>Z</th>\n",
       "    </tr>\n",
       "  </thead>\n",
       "  <tbody>\n",
       "    <tr>\n",
       "      <th>0</th>\n",
       "      <td>42</td>\n",
       "      <td>78.0</td>\n",
       "      <td>20.0</td>\n",
       "    </tr>\n",
       "    <tr>\n",
       "      <th>1</th>\n",
       "      <td>54</td>\n",
       "      <td>NaN</td>\n",
       "      <td>NaN</td>\n",
       "    </tr>\n",
       "    <tr>\n",
       "      <th>2</th>\n",
       "      <td>87</td>\n",
       "      <td>NaN</td>\n",
       "      <td>NaN</td>\n",
       "    </tr>\n",
       "    <tr>\n",
       "      <th>3</th>\n",
       "      <td>92</td>\n",
       "      <td>NaN</td>\n",
       "      <td>NaN</td>\n",
       "    </tr>\n",
       "    <tr>\n",
       "      <th>4</th>\n",
       "      <td>94</td>\n",
       "      <td>NaN</td>\n",
       "      <td>NaN</td>\n",
       "    </tr>\n",
       "  </tbody>\n",
       "</table>\n",
       "</div>"
      ],
      "text/plain": [
       "    X     Y     Z\n",
       "0  42  78.0  20.0\n",
       "1  54   NaN   NaN\n",
       "2  87   NaN   NaN\n",
       "3  92   NaN   NaN\n",
       "4  94   NaN   NaN"
      ]
     },
     "execution_count": 103,
     "metadata": {
      "tags": []
     },
     "output_type": "execute_result"
    }
   ],
   "source": [
    "# df.mean(axis=0).plot(kind='pie')\n",
    "plt.show()\n",
    "# np.sum(df['X'])\n",
    "df.mode()"
   ]
  },
  {
   "cell_type": "code",
   "execution_count": 106,
   "metadata": {
    "colab": {
     "base_uri": "https://localhost:8080/",
     "height": 466
    },
    "executionInfo": {
     "elapsed": 680,
     "status": "ok",
     "timestamp": 1601082307209,
     "user": {
      "displayName": "Kevin Lee",
      "photoUrl": "https://lh3.googleusercontent.com/a-/AOh14GhcI7KzMncvrm-X-r6yy5mMnsE2KpH24pgkqfLkug=s64",
      "userId": "10458473587965097684"
     },
     "user_tz": 420
    },
    "id": "EGmIafxD6K7L",
    "outputId": "eef11c2b-536f-40ae-a6e6-103397ae6d8c"
   },
   "outputs": [
    {
     "data": {
      "text/plain": [
       "1     17\n",
       "9     18\n",
       "14    19\n",
       "6     30\n",
       "17    36\n",
       "16    41\n",
       "5     42\n",
       "8     42\n",
       "19    45\n",
       "15    53\n",
       "12    54\n",
       "11    54\n",
       "20    58\n",
       "18    60\n",
       "4     70\n",
       "24    78\n",
       "0     80\n",
       "22    86\n",
       "7     87\n",
       "13    87\n",
       "3     88\n",
       "23    92\n",
       "2     92\n",
       "10    94\n",
       "21    94\n",
       "Name: X, dtype: int64"
      ]
     },
     "execution_count": 106,
     "metadata": {
      "tags": []
     },
     "output_type": "execute_result"
    }
   ],
   "source": [
    "df.loc[:, 'X'].sort_values()"
   ]
  }
 ],
 "metadata": {
  "colab": {
   "name": "data_visualization.ipynb",
   "provenance": [],
   "toc_visible": true
  },
  "kernelspec": {
   "display_name": "Python 3",
   "language": "python",
   "name": "python3"
  },
  "language_info": {
   "codemirror_mode": {
    "name": "ipython",
    "version": 3
   },
   "file_extension": ".py",
   "mimetype": "text/x-python",
   "name": "python",
   "nbconvert_exporter": "python",
   "pygments_lexer": "ipython3",
   "version": "3.7.1"
  }
 },
 "nbformat": 4,
 "nbformat_minor": 1
}
