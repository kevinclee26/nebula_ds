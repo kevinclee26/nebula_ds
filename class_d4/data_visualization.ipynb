{
 "cells": [
  {
   "cell_type": "markdown",
   "metadata": {},
   "source": [
    "## Overview\n",
    "Data visualization is a way of exploring complex patterns or large quantities of data that cannot be easily perceived by looking at table of number or reading paragraphcs of text. The goal of data visualization is to represent informaiton more clearly and concisely, and it does so by employing our innate ability to recognize visual patterns in our environment. \n",
    "* Data visualization can be exploratory in that they are created during the analysis phase. Looking at visual representation of our dataset can give us clues about what to focus on during analysis. \n",
    "* Data visualzation are also communicative in that they are created in order to present our findings to an audience. Using visual pattersn to represent patterns in data can be an effective way of explaining complex results. "
   ]
  },
  {
   "cell_type": "markdown",
   "metadata": {},
   "source": [
    "---\n",
    "### Agenda\n",
    "* Basic Visualization Examples\n",
    "* Inspiring Data Visualizations\n",
    "* Import Data from External Sources\n",
    "* Visuzliation Types\n",
    "* Types of Analysis"
   ]
  },
  {
   "cell_type": "markdown",
   "metadata": {},
   "source": [
    "---\n",
    "### Basic Data Visualizations\n",
    "![Viz](https://raw.githubusercontent.com/kevinclee26/nebula_ds/master/class_d4/images/image3.png)\n",
    "\n",
    "Let's discuss how we can choose which data visualization we should use\n",
    "#### -=Activity=-\n",
    "In the cell below, describe what kind of information if well suited for each visualization type\n",
    "\n",
    "#### Bar Chart\n",
    "![Bar](https://raw.githubusercontent.com/kevinclee26/nebula_ds/master/class_d4/images/image4.png)"
   ]
  },
  {
   "cell_type": "markdown",
   "metadata": {},
   "source": [
    "#### -=Your Turn\n",
    "(type your answer here)"
   ]
  },
  {
   "cell_type": "markdown",
   "metadata": {},
   "source": [
    "#### Stacked Bar Chart\n",
    "![Stacked Bar](https://raw.githubusercontent.com/kevinclee26/nebula_ds/master/class_d4/images/image5.png)"
   ]
  },
  {
   "cell_type": "markdown",
   "metadata": {},
   "source": [
    "#### -=Your Turn\n",
    "(type your answer here)"
   ]
  },
  {
   "cell_type": "markdown",
   "metadata": {},
   "source": [
    "#### Line Chart\n",
    "![Line](https://raw.githubusercontent.com/kevinclee26/nebula_ds/master/class_d4/images/image6.png)"
   ]
  },
  {
   "cell_type": "markdown",
   "metadata": {},
   "source": [
    "#### Radar\n",
    "![Radar](https://raw.githubusercontent.com/kevinclee26/nebula_ds/master/class_d4/images/image7.png)"
   ]
  },
  {
   "cell_type": "markdown",
   "metadata": {},
   "source": [
    "#### Scatter\n",
    "![Scatter](https://raw.githubusercontent.com/kevinclee26/nebula_ds/master/class_d4/images/image8.png)"
   ]
  },
  {
   "cell_type": "markdown",
   "metadata": {},
   "source": [
    "![Pie Chart](https://raw.githubusercontent.com/kevinclee26/nebula_ds/master/class_d4/images/image9.png)"
   ]
  },
  {
   "cell_type": "markdown",
   "metadata": {},
   "source": [
    "<img src=\"https://github.com/kevinclee26/nebula_ds/blob/master/class_d4/images/image2.png\">"
   ]
  },
  {
   "cell_type": "markdown",
   "metadata": {},
   "source": [
    "### Types of Analysis\n",
    "* Time Series\n",
    "* Segmentation Analysis\n",
    "* Comparitive Analysis"
   ]
  },
  {
   "cell_type": "markdown",
   "metadata": {},
   "source": [
    "### Line Chart"
   ]
  },
  {
   "cell_type": "markdown",
   "metadata": {},
   "source": [
    "### Bar Chart"
   ]
  },
  {
   "cell_type": "markdown",
   "metadata": {},
   "source": [
    "### Scatter Plot"
   ]
  },
  {
   "cell_type": "markdown",
   "metadata": {},
   "source": [
    "### Pie Chart"
   ]
  },
  {
   "cell_type": "markdown",
   "metadata": {},
   "source": [
    "### Boxplot"
   ]
  },
  {
   "cell_type": "markdown",
   "metadata": {},
   "source": [
    "### Histogram"
   ]
  },
  {
   "cell_type": "markdown",
   "metadata": {},
   "source": [
    "### Creating subplots"
   ]
  },
  {
   "cell_type": "markdown",
   "metadata": {},
   "source": [
    "### Heatmaps"
   ]
  },
  {
   "cell_type": "markdown",
   "metadata": {},
   "source": [
    "### Geographic"
   ]
  },
  {
   "cell_type": "code",
   "execution_count": null,
   "metadata": {},
   "outputs": [],
   "source": []
  }
 ],
 "metadata": {
  "kernelspec": {
   "display_name": "Python 3",
   "language": "python",
   "name": "python3"
  },
  "language_info": {
   "codemirror_mode": {
    "name": "ipython",
    "version": 3
   },
   "file_extension": ".py",
   "mimetype": "text/x-python",
   "name": "python",
   "nbconvert_exporter": "python",
   "pygments_lexer": "ipython3",
   "version": "3.7.1"
  }
 },
 "nbformat": 4,
 "nbformat_minor": 2
}
