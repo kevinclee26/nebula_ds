{
 "cells": [
  {
   "cell_type": "markdown",
   "metadata": {
    "id": "8a0hHXW_qCF1"
   },
   "source": [
    "## Overview \n",
    "In statistical modeling, regression analysis is a set of statistical processes for estimating the relationships between a dependent variable (often called the 'outcome variable') and one or more independent variables (often called 'predictors', 'covariates', or 'features'). The most common form of regression analysis is linear regression, in which a researcher finds the line (or a more complex linear combination) that most closely fits the data according to a specific mathematical criterion. \n",
    "Common examples of Regression Analysis: \n",
    "* Ordinary Least Squares Regression\n",
    "* Multi-Variate Linear Regression\n",
    "* Logistic Regression\n",
    "\n",
    "Regression analysis is primarily used for two conceptually distinct purposes. \n",
    "* First, regression analysis is widely used for prediction and forecasting, where its use has substantial overlap with the field of machine learning. \n",
    "* Second, in some situations regression analysis can be used to infer causal relationships between the independent and dependent variables. Importantly, regressions by themselves only reveal relationships between a dependent variable and a collection of independent variables in a fixed dataset. "
   ]
  },
  {
   "cell_type": "markdown",
   "metadata": {
    "id": "U3KFCxGTqCF2"
   },
   "source": [
    "---\n",
    "### Agenda\n",
    "* Linear Regression\n",
    "* Multi-Variate Linear Regression\n",
    "* Logictic Regression"
   ]
  },
  {
   "cell_type": "markdown",
   "metadata": {
    "id": "FjzSDxgUqCF3"
   },
   "source": [
    "---\n",
    "### Linear Regression\n",
    "The method of ordinary least squares computes the unique line (or hyperplane) that minimizes the sum of squared distances between the true data and that line (or hyperplane). For specific mathematical reasons (see linear regression), this allows the researcher to estimate the conditional expectation (or population average value) of the dependent variable when the independent variables take on a given set of values. \n",
    "\n",
    "![simple](https://github.com/kevinclee26/nebula_ds/blob/master/class_d7/images/image_1.png?raw=true)"
   ]
  },
  {
   "cell_type": "code",
   "execution_count": 1,
   "metadata": {
    "colab": {
     "base_uri": "https://localhost:8080/",
     "height": 296
    },
    "executionInfo": {
     "elapsed": 559,
     "status": "ok",
     "timestamp": 1601683789179,
     "user": {
      "displayName": "Kevin Lee",
      "photoUrl": "https://lh3.googleusercontent.com/a-/AOh14GhcI7KzMncvrm-X-r6yy5mMnsE2KpH24pgkqfLkug=s64",
      "userId": "10458473587965097684"
     },
     "user_tz": 420
    },
    "id": "8L0cuDm_qCF4",
    "outputId": "996d123d-e71c-4086-91f6-2eecb6613389"
   },
   "outputs": [
    {
     "data": {
      "text/plain": [
       "<matplotlib.axes._subplots.AxesSubplot at 0x7f95d7fdcba8>"
      ]
     },
     "execution_count": 1,
     "metadata": {},
     "output_type": "execute_result"
    }
   ],
   "source": [
    "from sklearn.datasets import make_regression\n",
    "import matplotlib.pyplot as plt\n",
    "import pandas as pd\n",
    "import numpy as np\n",
    "\n",
    "# returned_tuple=make_regression(n_features=1, noise=25, n_samples=100)\n",
    "# returned_tuple=(first_element, second_element)\n",
    "# returned_tuple=(x, y)\n",
    "x, y=make_regression(n_features=1, noise=25, n_samples=100, random_state=42)\n",
    "x=x[:, 0]\n",
    "df=pd.DataFrame({'x': x, 'y': y})\n",
    "df.plot('x', 'y', kind='scatter')\n",
    "# df\n",
    "# dataframe.plot(kind='line')\n",
    "# plt.scatter(x, y)"
   ]
  },
  {
   "cell_type": "code",
   "execution_count": 2,
   "metadata": {
    "colab": {
     "base_uri": "https://localhost:8080/",
     "height": 350
    },
    "executionInfo": {
     "elapsed": 576,
     "status": "ok",
     "timestamp": 1601684810681,
     "user": {
      "displayName": "Kevin Lee",
      "photoUrl": "https://lh3.googleusercontent.com/a-/AOh14GhcI7KzMncvrm-X-r6yy5mMnsE2KpH24pgkqfLkug=s64",
      "userId": "10458473587965097684"
     },
     "user_tz": 420
    },
    "id": "Sj6mY_ko0g4f",
    "outputId": "a9f54d27-4525-4ac5-b62f-3ea9756c2528"
   },
   "outputs": [
    {
     "name": "stdout",
     "output_type": "stream",
     "text": [
      "first try: 93827.0111991257\n",
      "second try: 63852.62760222279\n",
      "third try: 50424.369882694664\n",
      "fourth try: 61305.969323480225\n",
      "fifth try: 49915.03822694615\n"
     ]
    },
    {
     "data": {
      "image/png": "[encoded data removed]",
      "text/plain": [
       "<Figure size 432x288 with 1 Axes>"
      ]
     },
     "metadata": {
      "needs_background": "light"
     },
     "output_type": "display_data"
    }
   ],
   "source": [
    "# plot the observations\n",
    "plt.scatter(x, y)\n",
    "\n",
    "# guess a random slope, assuming y-intercept = 0\n",
    "hypothetical_m=25\n",
    "hypothetical_b=0\n",
    "\n",
    "# calculate the hypothetical y\n",
    "y_predict=hypothetical_m*x+hypothetical_b\n",
    "plt.plot(x, y_predict, c='r')\n",
    "errors_first_try=np.sum((y_predict-y)**2)\n",
    "print(f'first try: {errors_first_try}')\n",
    "\n",
    "# another try\n",
    "hypothetical_m=35\n",
    "hypothetical_b=0\n",
    "\n",
    "# calculate the hypothetical y\n",
    "y_predict=hypothetical_m*x+hypothetical_b\n",
    "plt.plot(x, y_predict, c='g')\n",
    "errors_second_try=np.sum((y_predict-y)**2)\n",
    "print(f'second try: {errors_second_try}')\n",
    "\n",
    "# another try\n",
    "hypothetical_m=45\n",
    "hypothetical_b=0\n",
    "\n",
    "# calculate the hypothetical y\n",
    "y_predict=hypothetical_m*x+hypothetical_b\n",
    "plt.plot(x, y_predict, c='y')\n",
    "errors_third_try=np.sum((y_predict-y)**2)\n",
    "print(f'third try: {errors_third_try}')\n",
    "\n",
    "# another try\n",
    "hypothetical_m=60\n",
    "hypothetical_b=0\n",
    "\n",
    "# calculate the hypothetical y\n",
    "y_predict=hypothetical_m*x+hypothetical_b\n",
    "plt.plot(x, y_predict, c='b')\n",
    "errors_fourth_try=np.sum((y_predict-y)**2)\n",
    "print(f'fourth try: {errors_fourth_try}')\n",
    "\n",
    "# another try\n",
    "hypothetical_m=50\n",
    "hypothetical_b=0\n",
    "\n",
    "# calculate the hypothetical y\n",
    "y_predict=hypothetical_m*x+hypothetical_b\n",
    "plt.plot(x, y_predict, c='black')\n",
    "errors_fifth_try=np.sum((y_predict-y)**2)\n",
    "print(f'fifth try: {errors_fifth_try}')"
   ]
  },
  {
   "cell_type": "code",
   "execution_count": 5,
   "metadata": {
    "colab": {
     "base_uri": "https://localhost:8080/",
     "height": 71
    },
    "executionInfo": {
     "elapsed": 495,
     "status": "ok",
     "timestamp": 1601685514327,
     "user": {
      "displayName": "Kevin Lee",
      "photoUrl": "https://lh3.googleusercontent.com/a-/AOh14GhcI7KzMncvrm-X-r6yy5mMnsE2KpH24pgkqfLkug=s64",
      "userId": "10458473587965097684"
     },
     "user_tz": 420
    },
    "id": "2OylRI9s20oQ",
    "outputId": "a2f46140-93ec-4bb8-b06d-311c656f940a"
   },
   "outputs": [
    {
     "name": "stdout",
     "output_type": "stream",
     "text": [
      "{0: 241152.27090489783, 1: 233273.72541138198, 2: 225560.64117663985, 3: 218013.01820067147, 4: 210630.85648347682, 5: 203414.15602505597, 6: 196362.91682540887, 7: 189477.13888453547, 8: 182756.8222024359, 9: 176201.96677911, 10: 169812.57261455784, 11: 163588.6397087795, 12: 157530.16806177484, 13: 151637.157673544, 14: 145909.6085440868, 15: 140347.5206734035, 16: 134950.8940614938, 17: 129719.72870835793, 18: 124654.02461399579, 19: 119753.78177840736, 20: 115019.00020159275, 21: 110449.67988355184, 22: 106045.82082428467, 23: 101807.42302379129, 24: 97734.48648207163, 25: 93827.0111991257, 26: 90084.99717495358, 27: 86508.44440955516, 28: 83097.35290293049, 29: 79851.72265507959, 30: 76771.55366600242, 31: 73856.84593569899, 32: 71107.59946416931, 33: 68523.81425141341, 34: 66105.49029743121, 35: 63852.62760222279, 36: 61765.226165788124, 37: 59843.28598812718, 38: 58086.80706923999, 39: 56495.78940912656, 40: 55070.23300778687, 41: 53810.137865220924, 42: 52715.50398142875, 43: 51786.3313564103, 44: 51022.61999016562, 45: 50424.369882694664, 46: 49991.581033997456, 47: 49724.25344407402, 48: 49622.38711292431, 49: 49685.982040548355, 50: 49915.03822694615, 51: 50309.55567211769, 52: 50869.534376062984, 53: 51594.97433878202, 54: 52485.8755602748, 55: 53542.23804054134, 56: 54764.06177958163, 57: 56151.34677739565, 58: 57704.09303398342, 59: 59422.30054934495}\n"
     ]
    },
    {
     "data": {
      "text/plain": [
       "48"
      ]
     },
     "execution_count": 5,
     "metadata": {},
     "output_type": "execute_result"
    }
   ],
   "source": [
    "all_m=range(0, 60)\n",
    "guesses={}\n",
    "for each_m in all_m: \n",
    "  y_predict=each_m*x+0\n",
    "  errors=np.sum((y_predict-y)**2)\n",
    "  guesses[each_m]=errors\n",
    "print(guesses)\n",
    "minimum_error=241152.27090489783\n",
    "minimum_m=0\n",
    "for each_m in guesses: \n",
    "  if guesses[each_m]<minimum_error: \n",
    "    minimum_error=guesses[each_m]\n",
    "    minimum_m=each_m\n",
    "  else: \n",
    "    pass\n",
    "    # break\n",
    "    # exit\n",
    "    # continue\n",
    "minimum_m"
   ]
  },
  {
   "cell_type": "code",
   "execution_count": 6,
   "metadata": {
    "colab": {
     "base_uri": "https://localhost:8080/",
     "height": 34
    },
    "executionInfo": {
     "elapsed": 449,
     "status": "ok",
     "timestamp": 1601685172104,
     "user": {
      "displayName": "Kevin Lee",
      "photoUrl": "https://lh3.googleusercontent.com/a-/AOh14GhcI7KzMncvrm-X-r6yy5mMnsE2KpH24pgkqfLkug=s64",
      "userId": "10458473587965097684"
     },
     "user_tz": 420
    },
    "id": "YNa0DFqk4CZV",
    "outputId": "b16007ee-84fa-4548-ce46-72586827859c"
   },
   "outputs": [
    {
     "ename": "NameError",
     "evalue": "name 'm' is not defined",
     "output_type": "error",
     "traceback": [
      "\u001b[0;31m---------------------------------------------------------------------------\u001b[0m",
      "\u001b[0;31mNameError\u001b[0m                                 Traceback (most recent call last)",
      "\u001b[0;32m<ipython-input-6-9a40b379906c>\u001b[0m in \u001b[0;36m<module>\u001b[0;34m\u001b[0m\n\u001b[0;32m----> 1\u001b[0;31m \u001b[0mm\u001b[0m\u001b[0;34m\u001b[0m\u001b[0;34m\u001b[0m\u001b[0m\n\u001b[0m",
      "\u001b[0;31mNameError\u001b[0m: name 'm' is not defined"
     ]
    }
   ],
   "source": [
    "m"
   ]
  },
  {
   "cell_type": "code",
   "execution_count": 7,
   "metadata": {
    "colab": {
     "base_uri": "https://localhost:8080/",
     "height": 282
    },
    "executionInfo": {
     "elapsed": 781,
     "status": "ok",
     "timestamp": 1601684221887,
     "user": {
      "displayName": "Kevin Lee",
      "photoUrl": "https://lh3.googleusercontent.com/a-/AOh14GhcI7KzMncvrm-X-r6yy5mMnsE2KpH24pgkqfLkug=s64",
      "userId": "10458473587965097684"
     },
     "user_tz": 420
    },
    "id": "0X8bJ9WAqCGE",
    "outputId": "d4c0c89c-f58c-498d-d6fd-8e9359dec4bc"
   },
   "outputs": [
    {
     "name": "stdout",
     "output_type": "stream",
     "text": [
      "51.39406280963802\n"
     ]
    },
    {
     "data": {
      "image/png": "[encoded data removed]",
      "text/plain": [
       "<Figure size 432x288 with 1 Axes>"
      ]
     },
     "metadata": {
      "needs_background": "light"
     },
     "output_type": "display_data"
    }
   ],
   "source": [
    "from scipy.stats import linregress\n",
    "plt.scatter(x, y)\n",
    "# linregress(x, y)\n",
    "m, b, r, p, std=linregress(x, y)\n",
    "y_pred=x*m+b\n",
    "plt.plot(x, y_pred, c='r')\n",
    "\n",
    "x_new=1\n",
    "y_new=m*x_new+b\n",
    "print(y_new)"
   ]
  },
  {
   "cell_type": "markdown",
   "metadata": {
    "id": "mfNBiwG7qCGH"
   },
   "source": [
    "### Multi-Variate Linear Regression\n",
    "This is quite similar to the simple linear regression model we have discussed previously, but with multiple independent variables contributing to the dependent variable and hence multiple coefficients to determine and complex computation due to the added variables.\n",
    "![multi](https://github.com/kevinclee26/nebula_ds/blob/master/class_d7/images/image_3.png?raw=true)"
   ]
  },
  {
   "cell_type": "markdown",
   "metadata": {
    "id": "PgMFsa90qCGI"
   },
   "source": [
    "As an example, an analyst may want to know how the movement of the market affects the price of Tesla (TSLA). In this case, their linear equation will have the value of the NASDAQ index as the independent variable, or predictor, and the price of TSLA as the dependent variable.\n",
    "In reality, there are multiple factors that predict the outcome of an event. The price movement of Tesla, for example, depends on more than just the performance of the overall market. Other predictors such as the price of gasoline/electricity, interest rates, and the price movement of car parts can affect the price of TSLA and stock prices of other car manufacturing companies. To understand a relationship in which more than two variables are present, multiple linear regression is used."
   ]
  },
  {
   "cell_type": "code",
   "execution_count": 8,
   "metadata": {
    "colab": {
     "base_uri": "https://localhost:8080/",
     "height": 282
    },
    "executionInfo": {
     "elapsed": 824,
     "status": "ok",
     "timestamp": 1601686640668,
     "user": {
      "displayName": "Kevin Lee",
      "photoUrl": "https://lh3.googleusercontent.com/a-/AOh14GhcI7KzMncvrm-X-r6yy5mMnsE2KpH24pgkqfLkug=s64",
      "userId": "10458473587965097684"
     },
     "user_tz": 420
    },
    "id": "WyXrZrm7qCGI",
    "outputId": "2c9d2952-99b1-4452-afef-bf50b44133ba"
   },
   "outputs": [
    {
     "data": {
      "text/plain": [
       "[<matplotlib.lines.Line2D at 0x7f95d8483b00>]"
      ]
     },
     "execution_count": 8,
     "metadata": {},
     "output_type": "execute_result"
    },
    {
     "data": {
      "image/png": "[encoded data removed]",
      "text/plain": [
       "<Figure size 432x288 with 2 Axes>"
      ]
     },
     "metadata": {
      "needs_background": "light"
     },
     "output_type": "display_data"
    }
   ],
   "source": [
    "x, y=make_regression(n_features=2, noise=0, n_samples=100, random_state=42)\n",
    "x_1=x[:,0]\n",
    "x_2=x[:,1]\n",
    "df=pd.DataFrame({'x_1': x_1, 'x_2': x_2, 'y': y})\n",
    "# df\n",
    "fig, ax=plt.subplots(1, 2)\n",
    "m_1, b_1, r_1, p_1, std_1=linregress(x_1, y)\n",
    "y_pred_1=x_1*m_1+b_1\n",
    "ax[0].scatter(x_1, y)\n",
    "ax[0].plot(x_1, y_pred_1, c='r')\n",
    "m_2, b_2, r_2, p_2, std_2=linregress(x_2, y)\n",
    "y_pred_2=x_2*m_2+b_2\n",
    "ax[1].scatter(x_2, y)\n",
    "ax[1].plot(x_2, y_pred_2, c='r')"
   ]
  },
  {
   "cell_type": "code",
   "execution_count": 9,
   "metadata": {
    "colab": {
     "base_uri": "https://localhost:8080/",
     "height": 320
    },
    "executionInfo": {
     "elapsed": 1299,
     "status": "ok",
     "timestamp": 1601686641447,
     "user": {
      "displayName": "Kevin Lee",
      "photoUrl": "https://lh3.googleusercontent.com/a-/AOh14GhcI7KzMncvrm-X-r6yy5mMnsE2KpH24pgkqfLkug=s64",
      "userId": "10458473587965097684"
     },
     "user_tz": 420
    },
    "id": "jDP9o0exqCGL",
    "outputId": "f48664c0-3eff-4d31-93c7-e850f4bcfc17"
   },
   "outputs": [
    {
     "name": "stdout",
     "output_type": "stream",
     "text": [
      "intercept: 0.0\n",
      "coef: [87.73730719 74.07686178]\n"
     ]
    },
    {
     "data": {
      "text/plain": [
       "(-100, 100)"
      ]
     },
     "execution_count": 9,
     "metadata": {},
     "output_type": "execute_result"
    },
    {
     "data": {
      "image/png": "[encoded data removed]",
      "text/plain": [
       "<Figure size 432x288 with 1 Axes>"
      ]
     },
     "metadata": {
      "needs_background": "light"
     },
     "output_type": "display_data"
    }
   ],
   "source": [
    "from sklearn import linear_model\n",
    "# pd.DataFrame()\n",
    "lm=linear_model.LinearRegression()\n",
    "lm.fit(x, y)\n",
    "print(f'intercept: {lm.intercept_}')\n",
    "print(f'coef: {lm.coef_}')\n",
    "m_1, m_2=lm.coef_\n",
    "y_predict=x_1*m_1+x_2*m_2+lm.intercept_\n",
    "residuals=y_predict-y\n",
    "plt.scatter(y, residuals)\n",
    "plt.hlines(0, xmin=-150, xmax=150)\n",
    "plt.ylim([-100, 100])"
   ]
  },
  {
   "cell_type": "markdown",
   "metadata": {
    "id": "GquAt5o-qCGk"
   },
   "source": [
    "### Logistic Regression\n",
    "In statistics, the logistic model (or logit model) is used to model the probability of a certain class or event existing such as pass/fail, win/lose, alive/dead or healthy/sick. This can be extended to model several classes of events such as determining whether an image contains a cat, dog, lion, etc. Each object being detected in the image would be assigned a probability between 0 and 1, with a sum of one.\n",
    "\n",
    "Logistic regression is a statistical model that in its basic form uses a logistic function to model a binary dependent variable, although many more complex extensions exist. In regression analysis, logistic regression[1] (or logit regression) is estimating the parameters of a logistic model (a form of binary regression). Mathematically, a binary logistic model has a dependent variable with two possible values, such as pass/fail which is represented by an indicator variable, where the two values are labeled \"0\" and \"1\". In the logistic model, the log-odds (the logarithm of the odds) for the value labeled \"1\" is a linear combination of one or more independent variables (\"predictors\"); the independent variables can each be a binary variable (two classes, coded by an indicator variable) or a continuous variable (any real value). The corresponding probability of the value labeled \"1\" can vary between 0 (certainly the value \"0\") and 1 (certainly the value \"1\"), hence the labeling; the function that converts log-odds to probability is the logistic function, hence the name. The unit of measurement for the log-odds scale is called a logit, from logistic unit, hence the alternative names. Analogous models with a different sigmoid function instead of the logistic function can also be used, such as the probit model; the defining characteristic of the logistic model is that increasing one of the independent variables multiplicatively scales the odds of the given outcome at a constant rate, with each independent variable having its own parameter; for a binary dependent variable this generalizes the odds ratio."
   ]
  },
  {
   "cell_type": "code",
   "execution_count": 10,
   "metadata": {
    "id": "HuW8GdDjqCGl",
    "outputId": "4877fb81-2c79-4e13-b391-102cd31937d9",
    "scrolled": true
   },
   "outputs": [
    {
     "data": {
      "text/html": [
       "<div>\n",
       "<style scoped>\n",
       "    .dataframe tbody tr th:only-of-type {\n",
       "        vertical-align: middle;\n",
       "    }\n",
       "\n",
       "    .dataframe tbody tr th {\n",
       "        vertical-align: top;\n",
       "    }\n",
       "\n",
       "    .dataframe thead th {\n",
       "        text-align: right;\n",
       "    }\n",
       "</style>\n",
       "<table border=\"1\" class=\"dataframe\">\n",
       "  <thead>\n",
       "    <tr style=\"text-align: right;\">\n",
       "      <th></th>\n",
       "      <th>time</th>\n",
       "      <th>pass</th>\n",
       "    </tr>\n",
       "  </thead>\n",
       "  <tbody>\n",
       "    <tr>\n",
       "      <th>0</th>\n",
       "      <td>0.50</td>\n",
       "      <td>0</td>\n",
       "    </tr>\n",
       "    <tr>\n",
       "      <th>1</th>\n",
       "      <td>0.75</td>\n",
       "      <td>0</td>\n",
       "    </tr>\n",
       "    <tr>\n",
       "      <th>2</th>\n",
       "      <td>1.00</td>\n",
       "      <td>0</td>\n",
       "    </tr>\n",
       "    <tr>\n",
       "      <th>3</th>\n",
       "      <td>1.25</td>\n",
       "      <td>0</td>\n",
       "    </tr>\n",
       "    <tr>\n",
       "      <th>4</th>\n",
       "      <td>1.50</td>\n",
       "      <td>0</td>\n",
       "    </tr>\n",
       "    <tr>\n",
       "      <th>5</th>\n",
       "      <td>1.75</td>\n",
       "      <td>0</td>\n",
       "    </tr>\n",
       "    <tr>\n",
       "      <th>6</th>\n",
       "      <td>2.00</td>\n",
       "      <td>1</td>\n",
       "    </tr>\n",
       "    <tr>\n",
       "      <th>7</th>\n",
       "      <td>2.25</td>\n",
       "      <td>0</td>\n",
       "    </tr>\n",
       "    <tr>\n",
       "      <th>8</th>\n",
       "      <td>2.50</td>\n",
       "      <td>1</td>\n",
       "    </tr>\n",
       "    <tr>\n",
       "      <th>9</th>\n",
       "      <td>2.75</td>\n",
       "      <td>0</td>\n",
       "    </tr>\n",
       "    <tr>\n",
       "      <th>10</th>\n",
       "      <td>3.00</td>\n",
       "      <td>1</td>\n",
       "    </tr>\n",
       "    <tr>\n",
       "      <th>11</th>\n",
       "      <td>3.25</td>\n",
       "      <td>0</td>\n",
       "    </tr>\n",
       "    <tr>\n",
       "      <th>12</th>\n",
       "      <td>3.50</td>\n",
       "      <td>1</td>\n",
       "    </tr>\n",
       "    <tr>\n",
       "      <th>13</th>\n",
       "      <td>3.75</td>\n",
       "      <td>0</td>\n",
       "    </tr>\n",
       "    <tr>\n",
       "      <th>14</th>\n",
       "      <td>4.00</td>\n",
       "      <td>1</td>\n",
       "    </tr>\n",
       "    <tr>\n",
       "      <th>15</th>\n",
       "      <td>4.25</td>\n",
       "      <td>1</td>\n",
       "    </tr>\n",
       "    <tr>\n",
       "      <th>16</th>\n",
       "      <td>4.50</td>\n",
       "      <td>1</td>\n",
       "    </tr>\n",
       "    <tr>\n",
       "      <th>17</th>\n",
       "      <td>4.75</td>\n",
       "      <td>1</td>\n",
       "    </tr>\n",
       "    <tr>\n",
       "      <th>18</th>\n",
       "      <td>5.00</td>\n",
       "      <td>1</td>\n",
       "    </tr>\n",
       "    <tr>\n",
       "      <th>19</th>\n",
       "      <td>5.50</td>\n",
       "      <td>1</td>\n",
       "    </tr>\n",
       "  </tbody>\n",
       "</table>\n",
       "</div>"
      ],
      "text/plain": [
       "    time  pass\n",
       "0   0.50     0\n",
       "1   0.75     0\n",
       "2   1.00     0\n",
       "3   1.25     0\n",
       "4   1.50     0\n",
       "5   1.75     0\n",
       "6   2.00     1\n",
       "7   2.25     0\n",
       "8   2.50     1\n",
       "9   2.75     0\n",
       "10  3.00     1\n",
       "11  3.25     0\n",
       "12  3.50     1\n",
       "13  3.75     0\n",
       "14  4.00     1\n",
       "15  4.25     1\n",
       "16  4.50     1\n",
       "17  4.75     1\n",
       "18  5.00     1\n",
       "19  5.50     1"
      ]
     },
     "execution_count": 10,
     "metadata": {},
     "output_type": "execute_result"
    }
   ],
   "source": [
    "import pandas as pd\n",
    "time=[.5, .75, 1, 1.25, 1.5, 1.75, 2, 2.25, 2.5, 2.75, 3, 3.25, 3.5, 3.75, 4, 4.25, 4.5, 4.75, 5, 5.5]\n",
    "pass_exam=[0, 0, 0, 0, 0, 0, 1, 0, 1, 0, 1, 0, 1, 0, 1, 1, 1, 1, 1, 1]\n",
    "pd.DataFrame({'time': time, 'pass': pass_exam})"
   ]
  },
  {
   "cell_type": "markdown",
   "metadata": {
    "id": "6ws4h_6SqCG7"
   },
   "source": [
    "![logic](https://github.com/kevinclee26/nebula_ds/blob/master/class_d7/images/image_2.jpeg?raw=true)"
   ]
  }
 ],
 "metadata": {
  "colab": {
   "name": "regression_analysis.ipynb",
   "provenance": []
  },
  "kernelspec": {
   "display_name": "Python 3",
   "language": "python",
   "name": "python3"
  },
  "language_info": {
   "codemirror_mode": {
    "name": "ipython",
    "version": 3
   },
   "file_extension": ".py",
   "mimetype": "text/x-python",
   "name": "python",
   "nbconvert_exporter": "python",
   "pygments_lexer": "ipython3",
   "version": "3.7.1"
  }
 },
 "nbformat": 4,
 "nbformat_minor": 1
}
