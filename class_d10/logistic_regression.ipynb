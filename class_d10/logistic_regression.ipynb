{
  "nbformat": 4,
  "nbformat_minor": 0,
  "metadata": {
    "celltoolbar": "Slideshow",
    "kernelspec": {
      "display_name": "Python 3",
      "language": "python",
      "name": "python3"
    },
    "language_info": {
      "codemirror_mode": {
        "name": "ipython",
        "version": 3
      },
      "file_extension": ".py",
      "mimetype": "text/x-python",
      "name": "python",
      "nbconvert_exporter": "python",
      "pygments_lexer": "ipython3",
      "version": "3.7.1"
    },
    "varInspector": {
      "cols": {
        "lenName": 16,
        "lenType": 16,
        "lenVar": 40
      },
      "kernels_config": {
        "python": {
          "delete_cmd_postfix": "",
          "delete_cmd_prefix": "del ",
          "library": "var_list.py",
          "varRefreshCmd": "print(var_dic_list())"
        },
        "r": {
          "delete_cmd_postfix": ") ",
          "delete_cmd_prefix": "rm(",
          "library": "var_list.r",
          "varRefreshCmd": "cat(var_dic_list()) "
        }
      },
      "types_to_exclude": [
        "module",
        "function",
        "builtin_function_or_method",
        "instance",
        "_Feature"
      ],
      "window_display": false
    },
    "colab": {
      "name": "logistic_regression.ipynb",
      "provenance": []
    }
  },
  "cells": [
    {
      "cell_type": "markdown",
      "metadata": {
        "id": "SBZME5aPoK6y"
      },
      "source": [
        "# Logistic Regression\n",
        "\n",
        "Logistic Regression is a statistical method for predicting binary outcomes from data.\n",
        "\n",
        "Examples of this are \"yes\" vs \"no\" or \"young\" vs \"old\". \n",
        "\n",
        "These are categories that translate to probability of being a 0 or a 1.\n",
        "\n",
        "Source: [Logistic Regression](https://towardsdatascience.com/real-world-implementation-of-logistic-regression-5136cefb8125)"
      ]
    },
    {
      "cell_type": "markdown",
      "metadata": {
        "id": "5ajP3gGHoK6z"
      },
      "source": [
        "We can calculate logistic regression by adding an activation function as the final step to our linear model. \n",
        "\n",
        "This converts the linear regression output to a probability."
      ]
    },
    {
      "cell_type": "code",
      "metadata": {
        "id": "_Ab27CuuoK60"
      },
      "source": [
        "%matplotlib inline\n",
        "import matplotlib.pyplot as plt\n",
        "import pandas as pd"
      ],
      "execution_count": null,
      "outputs": []
    },
    {
      "cell_type": "markdown",
      "metadata": {
        "id": "hlfX3dTKoK64"
      },
      "source": [
        "Generate some data"
      ]
    },
    {
      "cell_type": "code",
      "metadata": {
        "id": "q5N7xh2eoK65",
        "colab": {
          "base_uri": "https://localhost:8080/",
          "height": 202
        },
        "outputId": "90055476-b7d0-4137-9253-13ddc51b9254"
      },
      "source": [
        "from sklearn.datasets import make_blobs\n",
        "\n",
        "X, y = make_blobs(n_samples=1000, centers=2, random_state=42)\n",
        "# result=make_blobs(n_samples=1000, centers=2, random_state=42)\n",
        "\n",
        "# input=result[0]\n",
        "# output=result[1]\n",
        "\n",
        "print(f\"Labels: {y[:10]}\")\n",
        "print(f\"Data: {X[:10]}\")"
      ],
      "execution_count": null,
      "outputs": [
        {
          "output_type": "stream",
          "text": [
            "Labels: [0 1 1 1 1 1 1 0 1 0]\n",
            "Data: [[-1.67350551  7.88457927]\n",
            " [ 6.31757965  1.41958144]\n",
            " [ 3.54360375  0.5331188 ]\n",
            " [ 5.16271432  1.39946968]\n",
            " [ 4.45939892  5.16627725]\n",
            " [ 5.61507647  2.47426385]\n",
            " [ 5.22657264  1.49826603]\n",
            " [-2.31267645  9.72328989]\n",
            " [ 3.6682221   0.59355152]\n",
            " [-2.5423246  10.80884399]]\n"
          ],
          "name": "stdout"
        }
      ]
    },
    {
      "cell_type": "code",
      "metadata": {
        "id": "IehJ62qpoK7C",
        "colab": {
          "base_uri": "https://localhost:8080/",
          "height": 282
        },
        "outputId": "9b5484e6-e6df-4ded-8933-2fdd298184b5"
      },
      "source": [
        "# Visualizing both classes\n",
        "# df=pd.DataFrame(data=X, columns=['x', 'y'])\n",
        "df=pd.DataFrame(X, columns=['x', 'y'])\n",
        "df.loc[:, 'label']=y\n",
        "# df.plot(kind='scatter', x='x', y='y', c='label', colormap='BuPu')\n",
        "plt.scatter(X[:, 0], X[:, 1], c=y)"
      ],
      "execution_count": null,
      "outputs": [
        {
          "output_type": "execute_result",
          "data": {
            "text/plain": [
              "<matplotlib.collections.PathCollection at 0x7f10381d1b70>"
            ]
          },
          "metadata": {
            "tags": []
          },
          "execution_count": 24
        },
        {
          "output_type": "display_data",
          "data": {
            "image/png": "[encoded data removed]",
            "text/plain": [
              "<Figure size 432x288 with 1 Axes>"
            ]
          },
          "metadata": {
            "tags": [],
            "needs_background": "light"
          }
        }
      ]
    },
    {
      "cell_type": "markdown",
      "metadata": {
        "id": "IeToTJMBoK7e"
      },
      "source": [
        "Split our data into training and testing"
      ]
    },
    {
      "cell_type": "code",
      "metadata": {
        "id": "4BQbDDw2uBMd",
        "colab": {
          "base_uri": "https://localhost:8080/",
          "height": 136
        },
        "outputId": "a75ab49d-bf28-4733-e1f1-c4d483f053e5"
      },
      "source": [
        "filter_df=df.loc[:, 'label']==0\n",
        "failed_df=df.loc[filter_df, :]\n",
        "failed_df.mean()\n",
        "df.loc[:, :].groupby('label').mean()"
      ],
      "execution_count": null,
      "outputs": [
        {
          "output_type": "execute_result",
          "data": {
            "text/html": [
              "<div>\n",
              "<style scoped>\n",
              "    .dataframe tbody tr th:only-of-type {\n",
              "        vertical-align: middle;\n",
              "    }\n",
              "\n",
              "    .dataframe tbody tr th {\n",
              "        vertical-align: top;\n",
              "    }\n",
              "\n",
              "    .dataframe thead th {\n",
              "        text-align: right;\n",
              "    }\n",
              "</style>\n",
              "<table border=\"1\" class=\"dataframe\">\n",
              "  <thead>\n",
              "    <tr style=\"text-align: right;\">\n",
              "      <th></th>\n",
              "      <th>x</th>\n",
              "      <th>y</th>\n",
              "    </tr>\n",
              "    <tr>\n",
              "      <th>label</th>\n",
              "      <th></th>\n",
              "      <th></th>\n",
              "    </tr>\n",
              "  </thead>\n",
              "  <tbody>\n",
              "    <tr>\n",
              "      <th>0</th>\n",
              "      <td>-2.504967</td>\n",
              "      <td>9.047135</td>\n",
              "    </tr>\n",
              "    <tr>\n",
              "      <th>1</th>\n",
              "      <td>4.696797</td>\n",
              "      <td>2.050611</td>\n",
              "    </tr>\n",
              "  </tbody>\n",
              "</table>\n",
              "</div>"
            ],
            "text/plain": [
              "              x         y\n",
              "label                    \n",
              "0     -2.504967  9.047135\n",
              "1      4.696797  2.050611"
            ]
          },
          "metadata": {
            "tags": []
          },
          "execution_count": 30
        }
      ]
    },
    {
      "cell_type": "code",
      "metadata": {
        "id": "qILrChnTsatm",
        "colab": {
          "base_uri": "https://localhost:8080/",
          "height": 639
        },
        "outputId": "1ea60673-6374-4f98-bf86-767f6868aa9d"
      },
      "source": [
        "df.head(20).sort_values(by='x')"
      ],
      "execution_count": null,
      "outputs": [
        {
          "output_type": "execute_result",
          "data": {
            "text/html": [
              "<div>\n",
              "<style scoped>\n",
              "    .dataframe tbody tr th:only-of-type {\n",
              "        vertical-align: middle;\n",
              "    }\n",
              "\n",
              "    .dataframe tbody tr th {\n",
              "        vertical-align: top;\n",
              "    }\n",
              "\n",
              "    .dataframe thead th {\n",
              "        text-align: right;\n",
              "    }\n",
              "</style>\n",
              "<table border=\"1\" class=\"dataframe\">\n",
              "  <thead>\n",
              "    <tr style=\"text-align: right;\">\n",
              "      <th></th>\n",
              "      <th>x</th>\n",
              "      <th>y</th>\n",
              "      <th>label</th>\n",
              "    </tr>\n",
              "  </thead>\n",
              "  <tbody>\n",
              "    <tr>\n",
              "      <th>13</th>\n",
              "      <td>-4.534340</td>\n",
              "      <td>9.200740</td>\n",
              "      <td>0</td>\n",
              "    </tr>\n",
              "    <tr>\n",
              "      <th>18</th>\n",
              "      <td>-2.598933</td>\n",
              "      <td>10.454403</td>\n",
              "      <td>0</td>\n",
              "    </tr>\n",
              "    <tr>\n",
              "      <th>9</th>\n",
              "      <td>-2.542325</td>\n",
              "      <td>10.808844</td>\n",
              "      <td>0</td>\n",
              "    </tr>\n",
              "    <tr>\n",
              "      <th>15</th>\n",
              "      <td>-2.388902</td>\n",
              "      <td>9.528725</td>\n",
              "      <td>0</td>\n",
              "    </tr>\n",
              "    <tr>\n",
              "      <th>7</th>\n",
              "      <td>-2.312676</td>\n",
              "      <td>9.723290</td>\n",
              "      <td>0</td>\n",
              "    </tr>\n",
              "    <tr>\n",
              "      <th>0</th>\n",
              "      <td>-1.673506</td>\n",
              "      <td>7.884579</td>\n",
              "      <td>0</td>\n",
              "    </tr>\n",
              "    <tr>\n",
              "      <th>19</th>\n",
              "      <td>-0.356015</td>\n",
              "      <td>8.246939</td>\n",
              "      <td>0</td>\n",
              "    </tr>\n",
              "    <tr>\n",
              "      <th>12</th>\n",
              "      <td>2.140473</td>\n",
              "      <td>4.264112</td>\n",
              "      <td>1</td>\n",
              "    </tr>\n",
              "    <tr>\n",
              "      <th>14</th>\n",
              "      <td>2.946922</td>\n",
              "      <td>1.874830</td>\n",
              "      <td>1</td>\n",
              "    </tr>\n",
              "    <tr>\n",
              "      <th>2</th>\n",
              "      <td>3.543604</td>\n",
              "      <td>0.533119</td>\n",
              "      <td>1</td>\n",
              "    </tr>\n",
              "    <tr>\n",
              "      <th>8</th>\n",
              "      <td>3.668222</td>\n",
              "      <td>0.593552</td>\n",
              "      <td>1</td>\n",
              "    </tr>\n",
              "    <tr>\n",
              "      <th>10</th>\n",
              "      <td>3.684756</td>\n",
              "      <td>2.396769</td>\n",
              "      <td>1</td>\n",
              "    </tr>\n",
              "    <tr>\n",
              "      <th>4</th>\n",
              "      <td>4.459399</td>\n",
              "      <td>5.166277</td>\n",
              "      <td>1</td>\n",
              "    </tr>\n",
              "    <tr>\n",
              "      <th>17</th>\n",
              "      <td>4.505862</td>\n",
              "      <td>1.987858</td>\n",
              "      <td>1</td>\n",
              "    </tr>\n",
              "    <tr>\n",
              "      <th>3</th>\n",
              "      <td>5.162714</td>\n",
              "      <td>1.399470</td>\n",
              "      <td>1</td>\n",
              "    </tr>\n",
              "    <tr>\n",
              "      <th>6</th>\n",
              "      <td>5.226573</td>\n",
              "      <td>1.498266</td>\n",
              "      <td>1</td>\n",
              "    </tr>\n",
              "    <tr>\n",
              "      <th>11</th>\n",
              "      <td>5.434144</td>\n",
              "      <td>0.718880</td>\n",
              "      <td>1</td>\n",
              "    </tr>\n",
              "    <tr>\n",
              "      <th>5</th>\n",
              "      <td>5.615076</td>\n",
              "      <td>2.474264</td>\n",
              "      <td>1</td>\n",
              "    </tr>\n",
              "    <tr>\n",
              "      <th>16</th>\n",
              "      <td>5.748062</td>\n",
              "      <td>0.933264</td>\n",
              "      <td>1</td>\n",
              "    </tr>\n",
              "    <tr>\n",
              "      <th>1</th>\n",
              "      <td>6.317580</td>\n",
              "      <td>1.419581</td>\n",
              "      <td>1</td>\n",
              "    </tr>\n",
              "  </tbody>\n",
              "</table>\n",
              "</div>"
            ],
            "text/plain": [
              "           x          y  label\n",
              "13 -4.534340   9.200740      0\n",
              "18 -2.598933  10.454403      0\n",
              "9  -2.542325  10.808844      0\n",
              "15 -2.388902   9.528725      0\n",
              "7  -2.312676   9.723290      0\n",
              "0  -1.673506   7.884579      0\n",
              "19 -0.356015   8.246939      0\n",
              "12  2.140473   4.264112      1\n",
              "14  2.946922   1.874830      1\n",
              "2   3.543604   0.533119      1\n",
              "8   3.668222   0.593552      1\n",
              "10  3.684756   2.396769      1\n",
              "4   4.459399   5.166277      1\n",
              "17  4.505862   1.987858      1\n",
              "3   5.162714   1.399470      1\n",
              "6   5.226573   1.498266      1\n",
              "11  5.434144   0.718880      1\n",
              "5   5.615076   2.474264      1\n",
              "16  5.748062   0.933264      1\n",
              "1   6.317580   1.419581      1"
            ]
          },
          "metadata": {
            "tags": []
          },
          "execution_count": 26
        }
      ]
    },
    {
      "cell_type": "code",
      "metadata": {
        "id": "9Ta5X9qHoK7f"
      },
      "source": [
        "from sklearn.model_selection import train_test_split\n",
        "\n",
        "X_train, X_test, y_train, y_test = train_test_split(X, y, random_state=1)"
      ],
      "execution_count": null,
      "outputs": []
    },
    {
      "cell_type": "markdown",
      "metadata": {
        "id": "cESZlUS8oK7i"
      },
      "source": [
        "Create a Logistic Regression Model"
      ]
    },
    {
      "cell_type": "code",
      "metadata": {
        "id": "HfytOw3uoK7i",
        "colab": {
          "base_uri": "https://localhost:8080/",
          "height": 101
        },
        "outputId": "05eaebd1-59f9-4f9f-8ccf-37216c7e0417"
      },
      "source": [
        "from sklearn.linear_model import LogisticRegression\n",
        "classifier = LogisticRegression()\n",
        "classifier"
      ],
      "execution_count": null,
      "outputs": [
        {
          "output_type": "execute_result",
          "data": {
            "text/plain": [
              "LogisticRegression(C=1.0, class_weight=None, dual=False, fit_intercept=True,\n",
              "                   intercept_scaling=1, l1_ratio=None, max_iter=100,\n",
              "                   multi_class='auto', n_jobs=None, penalty='l2',\n",
              "                   random_state=None, solver='lbfgs', tol=0.0001, verbose=0,\n",
              "                   warm_start=False)"
            ]
          },
          "metadata": {
            "tags": []
          },
          "execution_count": 31
        }
      ]
    },
    {
      "cell_type": "markdown",
      "metadata": {
        "id": "kAteDtHzoK72"
      },
      "source": [
        "Fit (train) or model using the training data"
      ]
    },
    {
      "cell_type": "code",
      "metadata": {
        "id": "ODgTH4-NoK73",
        "colab": {
          "base_uri": "https://localhost:8080/",
          "height": 101
        },
        "outputId": "482852db-c08d-41ff-bede-dca65425eb4f"
      },
      "source": [
        "inputs=df.loc[:, ['x', 'y']]\n",
        "output=df.loc[:, 'label']\n",
        "classifier.fit(inputs, output)\n",
        "classifier"
      ],
      "execution_count": null,
      "outputs": [
        {
          "output_type": "execute_result",
          "data": {
            "text/plain": [
              "LogisticRegression(C=1.0, class_weight=None, dual=False, fit_intercept=True,\n",
              "                   intercept_scaling=1, l1_ratio=None, max_iter=100,\n",
              "                   multi_class='auto', n_jobs=None, penalty='l2',\n",
              "                   random_state=None, solver='lbfgs', tol=0.0001, verbose=0,\n",
              "                   warm_start=False)"
            ]
          },
          "metadata": {
            "tags": []
          },
          "execution_count": 33
        }
      ]
    },
    {
      "cell_type": "markdown",
      "metadata": {
        "id": "j2XaZ1smoK76"
      },
      "source": [
        "Validate the model using the test data"
      ]
    },
    {
      "cell_type": "code",
      "metadata": {
        "id": "Usr-o-xioK76",
        "outputId": "bc47a2c9-fcd9-4245-9f29-d96097eb1cb7"
      },
      "source": [
        "print(f\"Training Data Score: {classifier.score(X_train, y_train)}\")\n",
        "print(f\"Testing Data Score: {classifier.score(X_test, y_test)}\")"
      ],
      "execution_count": null,
      "outputs": [
        {
          "output_type": "stream",
          "text": [
            "Training Data Score: 1.0\n",
            "Testing Data Score: 1.0\n"
          ],
          "name": "stdout"
        }
      ]
    },
    {
      "cell_type": "code",
      "metadata": {
        "id": "J_6vFN91oK7_"
      },
      "source": [
        "# [X1, X2] [Y]\n",
        "# y=m1X1+m2X2+b\n",
        "# Y=1/(1+e^-y)"
      ],
      "execution_count": null,
      "outputs": []
    },
    {
      "cell_type": "markdown",
      "metadata": {
        "id": "nuFwq01foK8C"
      },
      "source": [
        "Make predictions"
      ]
    },
    {
      "cell_type": "code",
      "metadata": {
        "id": "NOtMwWxExTXO",
        "colab": {
          "base_uri": "https://localhost:8080/",
          "height": 233
        },
        "outputId": "df94296f-bcff-4016-dae9-0c07584195f4"
      },
      "source": [
        "# model=Model()\n",
        "# model.fit()\n",
        "# model.predict()\n",
        "new_df=pd.DataFrame([[5, 2], [4, 6], [-5, 0], [-12, -11]], columns=['x', 'y'])\n",
        "# new_df\n",
        "# new_df.loc[:, 'prediction']=classifier.predict_proba(new_df)\n",
        "# df.plot(kind='scatter', x='x', y='y', c='label', colormap='BuPu')\n",
        "\n",
        "# type(new_df.plot(kind='scatter', x='x', y='y', c='prediction'))\n",
        "# plt.scatter(X[:, 0], X[:, 1], c=y)\n",
        "new_df\n",
        "# df.head()\n",
        "\n",
        "# new_df.loc[:, 'predict_proba']=\n",
        "print(classifier.predict_proba(new_df[['x', 'y']]))\n",
        "new_df"
      ],
      "execution_count": null,
      "outputs": [
        {
          "output_type": "stream",
          "text": [
            "[[5.66718190e-05 9.99943328e-01]\n",
            " [3.16203316e-02 9.68379668e-01]\n",
            " [7.09870836e-01 2.90129164e-01]\n",
            " [2.35805832e-02 9.76419417e-01]]\n"
          ],
          "name": "stdout"
        },
        {
          "output_type": "execute_result",
          "data": {
            "text/html": [
              "<div>\n",
              "<style scoped>\n",
              "    .dataframe tbody tr th:only-of-type {\n",
              "        vertical-align: middle;\n",
              "    }\n",
              "\n",
              "    .dataframe tbody tr th {\n",
              "        vertical-align: top;\n",
              "    }\n",
              "\n",
              "    .dataframe thead th {\n",
              "        text-align: right;\n",
              "    }\n",
              "</style>\n",
              "<table border=\"1\" class=\"dataframe\">\n",
              "  <thead>\n",
              "    <tr style=\"text-align: right;\">\n",
              "      <th></th>\n",
              "      <th>x</th>\n",
              "      <th>y</th>\n",
              "    </tr>\n",
              "  </thead>\n",
              "  <tbody>\n",
              "    <tr>\n",
              "      <th>0</th>\n",
              "      <td>5</td>\n",
              "      <td>2</td>\n",
              "    </tr>\n",
              "    <tr>\n",
              "      <th>1</th>\n",
              "      <td>4</td>\n",
              "      <td>6</td>\n",
              "    </tr>\n",
              "    <tr>\n",
              "      <th>2</th>\n",
              "      <td>-5</td>\n",
              "      <td>0</td>\n",
              "    </tr>\n",
              "    <tr>\n",
              "      <th>3</th>\n",
              "      <td>-12</td>\n",
              "      <td>-11</td>\n",
              "    </tr>\n",
              "  </tbody>\n",
              "</table>\n",
              "</div>"
            ],
            "text/plain": [
              "    x   y\n",
              "0   5   2\n",
              "1   4   6\n",
              "2  -5   0\n",
              "3 -12 -11"
            ]
          },
          "metadata": {
            "tags": []
          },
          "execution_count": 67
        }
      ]
    },
    {
      "cell_type": "code",
      "metadata": {
        "id": "OypkXLgWoK8C",
        "colab": {
          "base_uri": "https://localhost:8080/",
          "height": 282
        },
        "outputId": "c88ca1d9-03b8-45ce-babf-14835b4f5558"
      },
      "source": [
        "# Generate a new data point (the red circle)\n",
        "import numpy as np\n",
        "new_data = np.array([[-2, 6]])\n",
        "plt.scatter(X[:, 0], X[:, 1], c=y)\n",
        "plt.scatter(new_data[0, 0], new_data[0, 1], c=\"r\", marker=\"o\", s=100)"
      ],
      "execution_count": null,
      "outputs": [
        {
          "output_type": "execute_result",
          "data": {
            "text/plain": [
              "<matplotlib.collections.PathCollection at 0x7f103412c6d8>"
            ]
          },
          "metadata": {
            "tags": []
          },
          "execution_count": 68
        },
        {
          "output_type": "display_data",
          "data": {
            "image/png": "[encoded data removed]",
            "text/plain": [
              "<Figure size 432x288 with 1 Axes>"
            ]
          },
          "metadata": {
            "tags": [],
            "needs_background": "light"
          }
        }
      ]
    },
    {
      "cell_type": "code",
      "metadata": {
        "id": "fWpooLgBoK8J",
        "colab": {
          "base_uri": "https://localhost:8080/",
          "height": 50
        },
        "outputId": "461b3291-de49-477f-d999-0fbfbbef1ab3"
      },
      "source": [
        "# Predict the class (purple or yellow) of the new data point\n",
        "predictions = classifier.predict(new_data)\n",
        "print(\"Classes are either 0 (purple) or 1 (yellow)\")\n",
        "print(f\"The new point was classified as: {predictions}\")"
      ],
      "execution_count": null,
      "outputs": [
        {
          "output_type": "stream",
          "text": [
            "Classes are either 0 (purple) or 1 (yellow)\n",
            "The new point was classified as: [0]\n"
          ],
          "name": "stdout"
        }
      ]
    },
    {
      "cell_type": "code",
      "metadata": {
        "id": "LKWCaxcwoK8T",
        "outputId": "a22a74ff-0489-44bf-e1a8-373b71f4c41d"
      },
      "source": [
        "classifier.coef_"
      ],
      "execution_count": null,
      "outputs": [
        {
          "output_type": "execute_result",
          "data": {
            "text/plain": [
              "array([[ 1.91605605, -0.51574811]])"
            ]
          },
          "metadata": {
            "tags": []
          },
          "execution_count": 29
        }
      ]
    },
    {
      "cell_type": "code",
      "metadata": {
        "id": "TNPnibwWoK8f",
        "colab": {
          "base_uri": "https://localhost:8080/",
          "height": 179
        },
        "outputId": "a66e9129-0708-471f-b64a-9c532d8228a2"
      },
      "source": [
        "predictions = classifier.predict(X_test)\n",
        "pd.DataFrame({\"Prediction\": predictions, \"Actual\": y_test})"
      ],
      "execution_count": null,
      "outputs": [
        {
          "output_type": "error",
          "ename": "NameError",
          "evalue": "ignored",
          "traceback": [
            "\u001b[0;31m---------------------------------------------------------------------------\u001b[0m",
            "\u001b[0;31mNameError\u001b[0m                                 Traceback (most recent call last)",
            "\u001b[0;32m<ipython-input-70-88c0079011b5>\u001b[0m in \u001b[0;36m<module>\u001b[0;34m()\u001b[0m\n\u001b[0;32m----> 1\u001b[0;31m \u001b[0mpredictions\u001b[0m \u001b[0;34m=\u001b[0m \u001b[0mclassifier\u001b[0m\u001b[0;34m.\u001b[0m\u001b[0mpredict\u001b[0m\u001b[0;34m(\u001b[0m\u001b[0mX_test\u001b[0m\u001b[0;34m)\u001b[0m\u001b[0;34m\u001b[0m\u001b[0;34m\u001b[0m\u001b[0m\n\u001b[0m\u001b[1;32m      2\u001b[0m \u001b[0mpd\u001b[0m\u001b[0;34m.\u001b[0m\u001b[0mDataFrame\u001b[0m\u001b[0;34m(\u001b[0m\u001b[0;34m{\u001b[0m\u001b[0;34m\"Prediction\"\u001b[0m\u001b[0;34m:\u001b[0m \u001b[0mpredictions\u001b[0m\u001b[0;34m,\u001b[0m \u001b[0;34m\"Actual\"\u001b[0m\u001b[0;34m:\u001b[0m \u001b[0my_test\u001b[0m\u001b[0;34m}\u001b[0m\u001b[0;34m)\u001b[0m\u001b[0;34m\u001b[0m\u001b[0;34m\u001b[0m\u001b[0m\n",
            "\u001b[0;31mNameError\u001b[0m: name 'X_test' is not defined"
          ]
        }
      ]
    },
    {
      "cell_type": "code",
      "metadata": {
        "id": "mYZRHhHjoK8y"
      },
      "source": [
        ""
      ],
      "execution_count": null,
      "outputs": []
    }
  ]
}