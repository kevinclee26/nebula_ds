{
 "cells": [
  {
   "cell_type": "markdown",
   "metadata": {},
   "source": [
    "## Overview\n",
    "In database analytics, an aggregate function or aggregation function is a function where the values of multiple rows are grouped together to form a single summary value. \n",
    "\n",
    "Common aggregate functions include:\n",
    "* Average (i.e., arithmetic mean)\n",
    "* Count\n",
    "* Maximum\n",
    "* Median\n",
    "* Minimum\n",
    "* Mode\n",
    "* Range\n",
    "* Sum"
   ]
  },
  {
   "cell_type": "markdown",
   "metadata": {},
   "source": [
    "---\n",
    "### Agenda\n",
    "* Introducing Data Set\n",
    "* Filtering\n",
    "* Grouping by Category"
   ]
  },
  {
   "cell_type": "markdown",
   "metadata": {},
   "source": [
    "---\n",
    "### Introducing Sample Data Set\n",
    "\n",
    "This dataset contains shared micromobility vehicle trip data reported to the City of Austin Transportation Department as part of the Shared Small Vehicle Mobility Systems operating rules.\n",
    "\n",
    "Data Source: https://data.austintexas.gov/Transportation-and-Mobility/Shared-Micromobility-Vehicle-Trips/7d8e-dm7r"
   ]
  },
  {
   "cell_type": "markdown",
   "metadata": {},
   "source": [
    "---\n",
    "#### Your Turn"
   ]
  },
  {
   "cell_type": "code",
   "execution_count": 1,
   "metadata": {},
   "outputs": [],
   "source": [
    "# Write the code to import the scooter.csv file into a Pandas DataFrame\n",
    "# Remember to reference your library dependencies"
   ]
  },
  {
   "cell_type": "markdown",
   "metadata": {},
   "source": [
    "![preview](https://github.com/kevinclee26/nebula_ds/blob/master/class_d5/images/image1.png?raw=true)"
   ]
  },
  {
   "cell_type": "code",
   "execution_count": 2,
   "metadata": {},
   "outputs": [],
   "source": [
    "# Write the code to preview the first five rows of the data"
   ]
  },
  {
   "cell_type": "markdown",
   "metadata": {},
   "source": [
    "#### Activity\n",
    "Using the documentation online and the preview of your data. Describe what data is captured in each column. What does each row represent? Note which columns are categorical vs. nominal. "
   ]
  },
  {
   "cell_type": "markdown",
   "metadata": {},
   "source": [
    "#### Your Turn\n",
    "(Type Your Answer Here)"
   ]
  },
  {
   "cell_type": "markdown",
   "metadata": {},
   "source": [
    "#### Your Turn"
   ]
  },
  {
   "cell_type": "code",
   "execution_count": null,
   "metadata": {},
   "outputs": [],
   "source": [
    "# Pass the DataFrame to the len() function to check the number of records in this dataset"
   ]
  },
  {
   "cell_type": "code",
   "execution_count": 3,
   "metadata": {},
   "outputs": [],
   "source": [
    "# Use df.describe() function to create a summary of the data"
   ]
  },
  {
   "cell_type": "markdown",
   "metadata": {},
   "source": [
    "![describe](https://github.com/kevinclee26/nebula_ds/blob/master/class_d5/images/image6.png?raw=true)"
   ]
  },
  {
   "cell_type": "markdown",
   "metadata": {},
   "source": [
    "### Data Cleaning\n",
    "Using the summary previously created, make the determination if there are issues with the data"
   ]
  },
  {
   "cell_type": "markdown",
   "metadata": {},
   "source": [
    "---\n",
    "### Filtering\n",
    "Data filtering is the process of choosing a smaller part of your data set and using that subset for viewing or analysis. Filtering is generally (but not always) temporary – the complete data set is kept, but only part of it is used for the calculation.\n",
    "\n",
    "Filtering may be used to:\n",
    "* Look at results for a particular period of time.\n",
    "* Calculate results for particular groups of interest.\n",
    "* Exclude erroneous or \"bad\" observations from an analysis.\n",
    "* Train and validate statistical models."
   ]
  },
  {
   "cell_type": "markdown",
   "metadata": {},
   "source": [
    "![filter](https://github.com/kevinclee26/nebula_ds/blob/master/class_d5/images/image2.png?raw=true)"
   ]
  },
  {
   "cell_type": "markdown",
   "metadata": {},
   "source": [
    "#### Activity\n",
    "#### Use Boolean Values to Filter Desired Data\n",
    "Filtering requires you to specify a rule or logic to identify the cases you want to included in your analysis. Filtering can also be referred to as “subsetting” data, or a data “drill-down”. In this article we illustrate a filtered data set and discuss how you might use filtering."
   ]
  },
  {
   "cell_type": "code",
   "execution_count": 4,
   "metadata": {},
   "outputs": [],
   "source": [
    "# Use the .loc[] method to filter data\n",
    "# .loc[row(s), column(s)]"
   ]
  },
  {
   "cell_type": "markdown",
   "metadata": {},
   "source": [
    "---\n",
    "### Group By\n",
    "The GROUPBY method allows you to arrange the rows of a query in groups. The groups are determined by the columns that you specify in the GROUP BY clause. GROUPBY method is used for aggregate functions. "
   ]
  },
  {
   "cell_type": "markdown",
   "metadata": {},
   "source": [
    "![group by](https://github.com/kevinclee26/nebula_ds/blob/master/class_d5/images/image3.png?raw=true)"
   ]
  },
  {
   "cell_type": "markdown",
   "metadata": {},
   "source": [
    "#### Your Turn"
   ]
  },
  {
   "cell_type": "markdown",
   "metadata": {},
   "source": [
    "<img src='https://github.com/kevinclee26/nebula_ds/blob/master/class_d5/images/image5.png?raw=true' width=\"200px\" align=\"left\"/>"
   ]
  },
  {
   "cell_type": "code",
   "execution_count": null,
   "metadata": {},
   "outputs": [],
   "source": [
    "# Use the df.groupby function to calculate the count based on the category\n",
    "# Did we have more scooter usage in March or April"
   ]
  },
  {
   "cell_type": "markdown",
   "metadata": {},
   "source": [
    "<img src='https://github.com/kevinclee26/nebula_ds/blob/master/class_d5/images/image7.png?raw=true' width=\"400px\" align=\"left\"/>"
   ]
  },
  {
   "cell_type": "code",
   "execution_count": null,
   "metadata": {},
   "outputs": [],
   "source": [
    "# Use the df.groupby function to calculate averages based on the category\n",
    "# Which hour did we have the highest usage 2019"
   ]
  },
  {
   "cell_type": "markdown",
   "metadata": {},
   "source": [
    "<img src='https://github.com/kevinclee26/nebula_ds/blob/master/class_d5/images/image8.png?raw=true' width=\"400px\" align=\"left\"/>"
   ]
  },
  {
   "cell_type": "code",
   "execution_count": null,
   "metadata": {},
   "outputs": [],
   "source": [
    "# Which month has the highest average distance traveled? "
   ]
  },
  {
   "cell_type": "markdown",
   "metadata": {},
   "source": [
    "<img src='https://github.com/kevinclee26/nebula_ds/blob/master/class_d5/images/image9.png?raw=true' width=\"400px\" align=\"left\"/>"
   ]
  },
  {
   "cell_type": "code",
   "execution_count": 5,
   "metadata": {},
   "outputs": [],
   "source": [
    "# Which hour has the highest usage? "
   ]
  },
  {
   "cell_type": "markdown",
   "metadata": {},
   "source": [
    "<img src='https://github.com/kevinclee26/nebula_ds/blob/master/class_d5/images/image10.png?raw=true' width=\"400px\" align=\"left\"/>"
   ]
  },
  {
   "cell_type": "code",
   "execution_count": 6,
   "metadata": {},
   "outputs": [],
   "source": [
    "# Which day has the highest usage? "
   ]
  },
  {
   "cell_type": "markdown",
   "metadata": {},
   "source": [
    "<img src='https://github.com/kevinclee26/nebula_ds/blob/master/class_d5/images/image11.png?raw=true' width=\"400px\" align=\"left\"/>"
   ]
  }
 ],
 "metadata": {
  "kernelspec": {
   "display_name": "Python 3",
   "language": "python",
   "name": "python3"
  },
  "language_info": {
   "codemirror_mode": {
    "name": "ipython",
    "version": 3
   },
   "file_extension": ".py",
   "mimetype": "text/x-python",
   "name": "python",
   "nbconvert_exporter": "python",
   "pygments_lexer": "ipython3",
   "version": "3.7.1"
  }
 },
 "nbformat": 4,
 "nbformat_minor": 2
}
