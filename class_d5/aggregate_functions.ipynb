{
 "cells": [
  {
   "cell_type": "markdown",
   "metadata": {},
   "source": [
    "## Overview\n",
    "In database analytics, an aggregate function or aggregation function is a function where the values of multiple rows are grouped together to form a single summary value. \n",
    "\n",
    "Common aggregate functions include:\n",
    "* Average (i.e., arithmetic mean)\n",
    "* Count\n",
    "* Maximum\n",
    "* Median\n",
    "* Minimum\n",
    "* Mode\n",
    "* Range\n",
    "* Sum"
   ]
  },
  {
   "cell_type": "markdown",
   "metadata": {},
   "source": [
    "---\n",
    "### Agenda\n",
    "* Introducing Data Set\n",
    "* Filtering\n",
    "* Grouping by Category"
   ]
  },
  {
   "cell_type": "markdown",
   "metadata": {},
   "source": [
    "---\n",
    "### Introducing Sample Data Set\n",
    "\n",
    "This dataset contains shared micromobility vehicle trip data reported to the City of Austin Transportation Department as part of the Shared Small Vehicle Mobility Systems operating rules.\n",
    "\n",
    "Data Source: https://data.austintexas.gov/Transportation-and-Mobility/Shared-Micromobility-Vehicle-Trips/7d8e-dm7r"
   ]
  },
  {
   "cell_type": "markdown",
   "metadata": {},
   "source": [
    "---\n",
    "#### Your Turn"
   ]
  },
  {
   "cell_type": "code",
   "execution_count": 12,
   "metadata": {},
   "outputs": [],
   "source": [
    "# Write the code to import the scooter.csv file into a Pandas DataFrame\n",
    "# Remember to reference your library dependencies\n",
    "import pandas as pd\n",
    "import matplotlib.pyplot as plt\n",
    "df=pd.read_csv('assets/scooter.csv')"
   ]
  },
  {
   "cell_type": "markdown",
   "metadata": {},
   "source": [
    "![preview](https://github.com/kevinclee26/nebula_ds/blob/master/class_d5/images/image1.png?raw=true)"
   ]
  },
  {
   "cell_type": "code",
   "execution_count": 6,
   "metadata": {},
   "outputs": [
    {
     "data": {
      "text/html": [
       "<div>\n",
       "<style scoped>\n",
       "    .dataframe tbody tr th:only-of-type {\n",
       "        vertical-align: middle;\n",
       "    }\n",
       "\n",
       "    .dataframe tbody tr th {\n",
       "        vertical-align: top;\n",
       "    }\n",
       "\n",
       "    .dataframe thead th {\n",
       "        text-align: right;\n",
       "    }\n",
       "</style>\n",
       "<table border=\"1\" class=\"dataframe\">\n",
       "  <thead>\n",
       "    <tr style=\"text-align: right;\">\n",
       "      <th></th>\n",
       "      <th>ID</th>\n",
       "      <th>Device ID</th>\n",
       "      <th>Vehicle Type</th>\n",
       "      <th>Trip Duration</th>\n",
       "      <th>Trip Distance</th>\n",
       "      <th>Start Time</th>\n",
       "      <th>Month</th>\n",
       "      <th>Hour</th>\n",
       "      <th>Day of Week</th>\n",
       "      <th>Year</th>\n",
       "      <th>Census Tract Start</th>\n",
       "    </tr>\n",
       "  </thead>\n",
       "  <tbody>\n",
       "    <tr>\n",
       "      <th>0</th>\n",
       "      <td>72dc1f62-a806-4550-8c4f-f1c82af9bc5d</td>\n",
       "      <td>ad15e5ad-77d2-4e31-81bc-092352903095</td>\n",
       "      <td>scooter</td>\n",
       "      <td>426</td>\n",
       "      <td>0.0</td>\n",
       "      <td>3/2/20 10:45</td>\n",
       "      <td>3</td>\n",
       "      <td>11</td>\n",
       "      <td>1</td>\n",
       "      <td>2020</td>\n",
       "      <td>48055960101</td>\n",
       "    </tr>\n",
       "    <tr>\n",
       "      <th>1</th>\n",
       "      <td>e9472991-4e28-4157-b33c-b1038c87b1ed</td>\n",
       "      <td>ad15e5ad-77d2-4e31-81bc-092352903095</td>\n",
       "      <td>scooter</td>\n",
       "      <td>1932</td>\n",
       "      <td>0.0</td>\n",
       "      <td>3/2/20 20:30</td>\n",
       "      <td>3</td>\n",
       "      <td>21</td>\n",
       "      <td>1</td>\n",
       "      <td>2020</td>\n",
       "      <td>48055960101</td>\n",
       "    </tr>\n",
       "    <tr>\n",
       "      <th>2</th>\n",
       "      <td>78d1bf17-a704-40a6-9c3d-3f85658735f2</td>\n",
       "      <td>ad15e5ad-77d2-4e31-81bc-092352903095</td>\n",
       "      <td>scooter</td>\n",
       "      <td>196</td>\n",
       "      <td>0.0</td>\n",
       "      <td>3/3/20 1:00</td>\n",
       "      <td>3</td>\n",
       "      <td>1</td>\n",
       "      <td>2</td>\n",
       "      <td>2020</td>\n",
       "      <td>48055960101</td>\n",
       "    </tr>\n",
       "    <tr>\n",
       "      <th>3</th>\n",
       "      <td>30c963fb-80cc-498e-b8f3-d21780ea7ecf</td>\n",
       "      <td>f856ac74-42b4-490c-bad1-bcf82aadecf9</td>\n",
       "      <td>scooter</td>\n",
       "      <td>362</td>\n",
       "      <td>0.0</td>\n",
       "      <td>3/11/20 9:45</td>\n",
       "      <td>3</td>\n",
       "      <td>10</td>\n",
       "      <td>3</td>\n",
       "      <td>2020</td>\n",
       "      <td>48209010901</td>\n",
       "    </tr>\n",
       "    <tr>\n",
       "      <th>4</th>\n",
       "      <td>e5f84de0-033c-48bc-ba6a-470322e0daa0</td>\n",
       "      <td>f856ac74-42b4-490c-bad1-bcf82aadecf9</td>\n",
       "      <td>scooter</td>\n",
       "      <td>437</td>\n",
       "      <td>0.0</td>\n",
       "      <td>3/11/20 11:45</td>\n",
       "      <td>3</td>\n",
       "      <td>12</td>\n",
       "      <td>3</td>\n",
       "      <td>2020</td>\n",
       "      <td>48209010901</td>\n",
       "    </tr>\n",
       "  </tbody>\n",
       "</table>\n",
       "</div>"
      ],
      "text/plain": [
       "                                     ID                             Device ID  \\\n",
       "0  72dc1f62-a806-4550-8c4f-f1c82af9bc5d  ad15e5ad-77d2-4e31-81bc-092352903095   \n",
       "1  e9472991-4e28-4157-b33c-b1038c87b1ed  ad15e5ad-77d2-4e31-81bc-092352903095   \n",
       "2  78d1bf17-a704-40a6-9c3d-3f85658735f2  ad15e5ad-77d2-4e31-81bc-092352903095   \n",
       "3  30c963fb-80cc-498e-b8f3-d21780ea7ecf  f856ac74-42b4-490c-bad1-bcf82aadecf9   \n",
       "4  e5f84de0-033c-48bc-ba6a-470322e0daa0  f856ac74-42b4-490c-bad1-bcf82aadecf9   \n",
       "\n",
       "  Vehicle Type  Trip Duration  Trip Distance     Start Time  Month  Hour  \\\n",
       "0      scooter            426            0.0   3/2/20 10:45      3    11   \n",
       "1      scooter           1932            0.0   3/2/20 20:30      3    21   \n",
       "2      scooter            196            0.0    3/3/20 1:00      3     1   \n",
       "3      scooter            362            0.0   3/11/20 9:45      3    10   \n",
       "4      scooter            437            0.0  3/11/20 11:45      3    12   \n",
       "\n",
       "   Day of Week  Year  Census Tract Start  \n",
       "0            1  2020         48055960101  \n",
       "1            1  2020         48055960101  \n",
       "2            2  2020         48055960101  \n",
       "3            3  2020         48209010901  \n",
       "4            3  2020         48209010901  "
      ]
     },
     "execution_count": 6,
     "metadata": {},
     "output_type": "execute_result"
    }
   ],
   "source": [
    "# Write the code to preview the first five rows of the data\n",
    "df.head()"
   ]
  },
  {
   "cell_type": "markdown",
   "metadata": {},
   "source": [
    "#### Activity\n",
    "Using the documentation online and the preview of your data. Describe what data is captured in each column. What does each row represent? Note which columns are categorical vs. nominal. "
   ]
  },
  {
   "cell_type": "markdown",
   "metadata": {},
   "source": [
    "#### Your Turn\n",
    "(Type Your Answer Here)"
   ]
  },
  {
   "cell_type": "markdown",
   "metadata": {},
   "source": [
    "#### Your Turn"
   ]
  },
  {
   "cell_type": "code",
   "execution_count": null,
   "metadata": {},
   "outputs": [],
   "source": [
    "# Pass the DataFrame to the len() function to check the number of records in this dataset"
   ]
  },
  {
   "cell_type": "code",
   "execution_count": 7,
   "metadata": {},
   "outputs": [
    {
     "data": {
      "text/html": [
       "<div>\n",
       "<style scoped>\n",
       "    .dataframe tbody tr th:only-of-type {\n",
       "        vertical-align: middle;\n",
       "    }\n",
       "\n",
       "    .dataframe tbody tr th {\n",
       "        vertical-align: top;\n",
       "    }\n",
       "\n",
       "    .dataframe thead th {\n",
       "        text-align: right;\n",
       "    }\n",
       "</style>\n",
       "<table border=\"1\" class=\"dataframe\">\n",
       "  <thead>\n",
       "    <tr style=\"text-align: right;\">\n",
       "      <th></th>\n",
       "      <th>Trip Duration</th>\n",
       "      <th>Trip Distance</th>\n",
       "      <th>Month</th>\n",
       "      <th>Hour</th>\n",
       "      <th>Day of Week</th>\n",
       "      <th>Year</th>\n",
       "      <th>Census Tract Start</th>\n",
       "    </tr>\n",
       "  </thead>\n",
       "  <tbody>\n",
       "    <tr>\n",
       "      <th>count</th>\n",
       "      <td>187828.000000</td>\n",
       "      <td>1.878280e+05</td>\n",
       "      <td>187828.000000</td>\n",
       "      <td>187828.000000</td>\n",
       "      <td>187828.000000</td>\n",
       "      <td>187828.0</td>\n",
       "      <td>1.878280e+05</td>\n",
       "    </tr>\n",
       "    <tr>\n",
       "      <th>mean</th>\n",
       "      <td>726.820474</td>\n",
       "      <td>1.313125e+05</td>\n",
       "      <td>3.059416</td>\n",
       "      <td>14.176252</td>\n",
       "      <td>2.996348</td>\n",
       "      <td>2020.0</td>\n",
       "      <td>4.845298e+10</td>\n",
       "    </tr>\n",
       "    <tr>\n",
       "      <th>std</th>\n",
       "      <td>1453.134525</td>\n",
       "      <td>5.125612e+06</td>\n",
       "      <td>0.236402</td>\n",
       "      <td>5.815711</td>\n",
       "      <td>2.142135</td>\n",
       "      <td>0.0</td>\n",
       "      <td>2.526339e+06</td>\n",
       "    </tr>\n",
       "    <tr>\n",
       "      <th>min</th>\n",
       "      <td>1.000000</td>\n",
       "      <td>0.000000e+00</td>\n",
       "      <td>3.000000</td>\n",
       "      <td>0.000000</td>\n",
       "      <td>0.000000</td>\n",
       "      <td>2020.0</td>\n",
       "      <td>4.805596e+10</td>\n",
       "    </tr>\n",
       "    <tr>\n",
       "      <th>25%</th>\n",
       "      <td>247.000000</td>\n",
       "      <td>6.220000e+02</td>\n",
       "      <td>3.000000</td>\n",
       "      <td>11.000000</td>\n",
       "      <td>1.000000</td>\n",
       "      <td>2020.0</td>\n",
       "      <td>4.845300e+10</td>\n",
       "    </tr>\n",
       "    <tr>\n",
       "      <th>50%</th>\n",
       "      <td>426.000000</td>\n",
       "      <td>1.207000e+03</td>\n",
       "      <td>3.000000</td>\n",
       "      <td>15.000000</td>\n",
       "      <td>3.000000</td>\n",
       "      <td>2020.0</td>\n",
       "      <td>4.845300e+10</td>\n",
       "    </tr>\n",
       "    <tr>\n",
       "      <th>75%</th>\n",
       "      <td>806.000000</td>\n",
       "      <td>2.204000e+03</td>\n",
       "      <td>3.000000</td>\n",
       "      <td>18.000000</td>\n",
       "      <td>5.000000</td>\n",
       "      <td>2020.0</td>\n",
       "      <td>4.845300e+10</td>\n",
       "    </tr>\n",
       "    <tr>\n",
       "      <th>max</th>\n",
       "      <td>448577.000000</td>\n",
       "      <td>1.090393e+09</td>\n",
       "      <td>4.000000</td>\n",
       "      <td>23.000000</td>\n",
       "      <td>6.000000</td>\n",
       "      <td>2020.0</td>\n",
       "      <td>4.849102e+10</td>\n",
       "    </tr>\n",
       "  </tbody>\n",
       "</table>\n",
       "</div>"
      ],
      "text/plain": [
       "       Trip Duration  Trip Distance          Month           Hour  \\\n",
       "count  187828.000000   1.878280e+05  187828.000000  187828.000000   \n",
       "mean      726.820474   1.313125e+05       3.059416      14.176252   \n",
       "std      1453.134525   5.125612e+06       0.236402       5.815711   \n",
       "min         1.000000   0.000000e+00       3.000000       0.000000   \n",
       "25%       247.000000   6.220000e+02       3.000000      11.000000   \n",
       "50%       426.000000   1.207000e+03       3.000000      15.000000   \n",
       "75%       806.000000   2.204000e+03       3.000000      18.000000   \n",
       "max    448577.000000   1.090393e+09       4.000000      23.000000   \n",
       "\n",
       "         Day of Week      Year  Census Tract Start  \n",
       "count  187828.000000  187828.0        1.878280e+05  \n",
       "mean        2.996348    2020.0        4.845298e+10  \n",
       "std         2.142135       0.0        2.526339e+06  \n",
       "min         0.000000    2020.0        4.805596e+10  \n",
       "25%         1.000000    2020.0        4.845300e+10  \n",
       "50%         3.000000    2020.0        4.845300e+10  \n",
       "75%         5.000000    2020.0        4.845300e+10  \n",
       "max         6.000000    2020.0        4.849102e+10  "
      ]
     },
     "execution_count": 7,
     "metadata": {},
     "output_type": "execute_result"
    }
   ],
   "source": [
    "# Use df.describe() function to create a summary of the data\n",
    "df.describe()"
   ]
  },
  {
   "cell_type": "markdown",
   "metadata": {},
   "source": [
    "![describe](https://github.com/kevinclee26/nebula_ds/blob/master/class_d5/images/image6.png?raw=true)"
   ]
  },
  {
   "cell_type": "markdown",
   "metadata": {},
   "source": [
    "### Data Cleaning\n",
    "Using the summary previously created, make the determination if there are issues with the data"
   ]
  },
  {
   "cell_type": "markdown",
   "metadata": {},
   "source": [
    "---\n",
    "### Filtering\n",
    "Data filtering is the process of choosing a smaller part of your data set and using that subset for viewing or analysis. Filtering is generally (but not always) temporary – the complete data set is kept, but only part of it is used for the calculation.\n",
    "\n",
    "Filtering may be used to:\n",
    "* Look at results for a particular period of time.\n",
    "* Calculate results for particular groups of interest.\n",
    "* Exclude erroneous or \"bad\" observations from an analysis.\n",
    "* Train and validate statistical models."
   ]
  },
  {
   "cell_type": "markdown",
   "metadata": {},
   "source": [
    "![filter](https://github.com/kevinclee26/nebula_ds/blob/master/class_d5/images/image2.png?raw=true)"
   ]
  },
  {
   "cell_type": "markdown",
   "metadata": {},
   "source": [
    "#### Activity\n",
    "#### Use Boolean Values to Filter Desired Data\n",
    "Filtering requires you to specify a rule or logic to identify the cases you want to included in your analysis. Filtering can also be referred to as “subsetting” data, or a data “drill-down”. In this article we illustrate a filtered data set and discuss how you might use filtering."
   ]
  },
  {
   "cell_type": "code",
   "execution_count": 8,
   "metadata": {},
   "outputs": [],
   "source": [
    "# Use the .loc[] method to filter data\n",
    "# .loc[row(s), column(s)]\n",
    "filter_df=df.loc[:, 'Year']==2020\n",
    "df.loc[filter_df, :]"
   ]
  },
  {
   "cell_type": "markdown",
   "metadata": {},
   "source": [
    "---\n",
    "### Group By\n",
    "The GROUPBY method allows you to arrange the rows of a query in groups. The groups are determined by the columns that you specify in the GROUP BY clause. GROUPBY method is used for aggregate functions. "
   ]
  },
  {
   "cell_type": "markdown",
   "metadata": {},
   "source": [
    "![group by](https://github.com/kevinclee26/nebula_ds/blob/master/class_d5/images/image3.png?raw=true)"
   ]
  },
  {
   "cell_type": "markdown",
   "metadata": {},
   "source": [
    "#### Your Turn"
   ]
  },
  {
   "cell_type": "markdown",
   "metadata": {},
   "source": [
    "![count](https://github.com/kevinclee26/nebula_ds/blob/master/class_d5/images/image5.png?raw=true)"
   ]
  },
  {
   "cell_type": "code",
   "execution_count": 20,
   "metadata": {},
   "outputs": [],
   "source": [
    "# Use the df.groupby function to calculate the count based on the category\n",
    "# Did we have more scooter usage in March or April"
   ]
  },
  {
   "cell_type": "code",
   "execution_count": 13,
   "metadata": {},
   "outputs": [
    {
     "data": {
      "text/plain": [
       "<matplotlib.axes._subplots.AxesSubplot at 0x7fe764ad0898>"
      ]
     },
     "execution_count": 13,
     "metadata": {},
     "output_type": "execute_result"
    },
    {
     "data": {
      "image/png": "[encoded data removed]",
      "text/plain": [
       "<Figure size 432x288 with 1 Axes>"
      ]
     },
     "metadata": {
      "needs_background": "light"
     },
     "output_type": "display_data"
    }
   ],
   "source": [
    "df.groupby('Month').count()['ID'].plot(kind='bar')"
   ]
  },
  {
   "cell_type": "markdown",
   "metadata": {},
   "source": [
    "![month](https://github.com/kevinclee26/nebula_ds/blob/master/class_d5/images/image7.png?raw=true)"
   ]
  },
  {
   "cell_type": "code",
   "execution_count": 15,
   "metadata": {},
   "outputs": [],
   "source": [
    "# Use the df.groupby function to calculate averages based on the category\n",
    "# Which hour did we have the highest usage 2019"
   ]
  },
  {
   "cell_type": "code",
   "execution_count": 16,
   "metadata": {},
   "outputs": [
    {
     "data": {
      "text/plain": [
       "<matplotlib.axes._subplots.AxesSubplot at 0x7fe7797077f0>"
      ]
     },
     "execution_count": 16,
     "metadata": {},
     "output_type": "execute_result"
    },
    {
     "data": {
      "image/png": "[encoded data removed]",
      "text/plain": [
       "<Figure size 432x288 with 1 Axes>"
      ]
     },
     "metadata": {
      "needs_background": "light"
     },
     "output_type": "display_data"
    }
   ],
   "source": [
    "df.groupby('Month').mean()['Trip Duration'].plot(kind='bar')"
   ]
  },
  {
   "cell_type": "markdown",
   "metadata": {},
   "source": [
    "![duration](https://github.com/kevinclee26/nebula_ds/blob/master/class_d5/images/image8.png?raw=true)"
   ]
  },
  {
   "cell_type": "code",
   "execution_count": 17,
   "metadata": {},
   "outputs": [],
   "source": [
    "# Which month has the highest average distance traveled? "
   ]
  },
  {
   "cell_type": "code",
   "execution_count": 19,
   "metadata": {},
   "outputs": [
    {
     "data": {
      "text/plain": [
       "<matplotlib.axes._subplots.AxesSubplot at 0x7fe761cedb70>"
      ]
     },
     "execution_count": 19,
     "metadata": {},
     "output_type": "execute_result"
    },
    {
     "data": {
      "image/png": "[encoded data removed]",
      "text/plain": [
       "<Figure size 432x288 with 1 Axes>"
      ]
     },
     "metadata": {
      "needs_background": "light"
     },
     "output_type": "display_data"
    }
   ],
   "source": [
    "df.groupby('Month').mean()['Trip Distance'].plot(kind='bar')"
   ]
  },
  {
   "cell_type": "markdown",
   "metadata": {},
   "source": [
    "![distance](https://github.com/kevinclee26/nebula_ds/blob/master/class_d5/images/image9.png?raw=true)"
   ]
  },
  {
   "cell_type": "code",
   "execution_count": 3,
   "metadata": {},
   "outputs": [],
   "source": [
    "# Which hour has the highest usage? "
   ]
  },
  {
   "cell_type": "code",
   "execution_count": 20,
   "metadata": {},
   "outputs": [
    {
     "data": {
      "text/plain": [
       "<matplotlib.axes._subplots.AxesSubplot at 0x7fe761dbe1d0>"
      ]
     },
     "execution_count": 20,
     "metadata": {},
     "output_type": "execute_result"
    },
    {
     "data": {
      "image/png": "[encoded data removed]",
      "text/plain": [
       "<Figure size 432x288 with 1 Axes>"
      ]
     },
     "metadata": {
      "needs_background": "light"
     },
     "output_type": "display_data"
    }
   ],
   "source": [
    "df.groupby('Hour').count()['ID'].plot(kind='bar')"
   ]
  },
  {
   "cell_type": "markdown",
   "metadata": {},
   "source": [
    "![hour](https://github.com/kevinclee26/nebula_ds/blob/master/class_d5/images/image10.png?raw=true)"
   ]
  },
  {
   "cell_type": "code",
   "execution_count": null,
   "metadata": {},
   "outputs": [],
   "source": [
    "# Which day has the highest usage? \n",
    "df.groupby('Hour').count()['ID'].plot(kind='bar')"
   ]
  }
 ],
 "metadata": {
  "kernelspec": {
   "display_name": "Python 3",
   "language": "python",
   "name": "python3"
  },
  "language_info": {
   "codemirror_mode": {
    "name": "ipython",
    "version": 3
   },
   "file_extension": ".py",
   "mimetype": "text/x-python",
   "name": "python",
   "nbconvert_exporter": "python",
   "pygments_lexer": "ipython3",
   "version": "3.7.1"
  }
 },
 "nbformat": 4,
 "nbformat_minor": 2
}
