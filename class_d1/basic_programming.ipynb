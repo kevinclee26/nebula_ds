{
 "cells": [
  {
   "cell_type": "markdown",
   "metadata": {},
   "source": [
    "## Agenda\n",
    "1. Program Overview\n",
    "2. Programming Basics - Python & Notebooks\n",
    "3. Data Types\n",
    "4. Container Data Types\n",
    "5. Mathematical Operations\n",
    "6. Logical (Boolean) Operations\n",
    "7. Functions\n",
    "\n",
    "---"
   ]
  },
  {
   "cell_type": "markdown",
   "metadata": {},
   "source": [
    "### Introduction to Data Science\n",
    "* Data Science is telling the story of data  \n",
    "* We will study the tools to help you understand the data\n",
    "\n",
    "**-=Activity=-**  \n",
    "In the cell below, describe what you see from this data? What is the story? \n",
    "![height_vs_weight](images/height_vs_weight.png)"
   ]
  },
  {
   "cell_type": "markdown",
   "metadata": {},
   "source": [
    "**-=Answer=-**  \n",
    "type your answer here\n",
    "The height increases as the weight increases\n",
    "\n",
    "---"
   ]
  },
  {
   "cell_type": "markdown",
   "metadata": {},
   "source": [
    "**-=Activity=-**  \n",
    "In the cell below, describe what you see from this data? What is the story?  \n",
    "![](images/temp_vs_month.png)"
   ]
  },
  {
   "cell_type": "markdown",
   "metadata": {},
   "source": [
    "**-=Answer=-**  \n",
    "type your answer here\n",
    "\n",
    "---"
   ]
  },
  {
   "cell_type": "markdown",
   "metadata": {},
   "source": [
    "#### Answer\n",
    "**-=Answer=-**"
   ]
  },
  {
   "cell_type": "markdown",
   "metadata": {},
   "source": [
    "### Schedule\n",
    "![agenda](images/agenda.jpg)"
   ]
  },
  {
   "cell_type": "markdown",
   "metadata": {},
   "source": [
    "### Programming in Data Science\n",
    "* Programming can be used as a tool to process large datasets and perform calculations\n",
    "* Learning programming for data analysis is like learning to use the calculator for math, with a lot more buttons\n",
    "* We use programming to: \n",
    "\n",
    "\n",
    "1. Gather data\n",
    "2. Clean data\n",
    "3. Analyze data\n",
    "4. Visualization"
   ]
  },
  {
   "cell_type": "markdown",
   "metadata": {},
   "source": [
    "---\n",
    "**-=Demo=-**\n",
    "\n",
    "\n",
    "---"
   ]
  },
  {
   "cell_type": "markdown",
   "metadata": {},
   "source": [
    "### Data Types\n",
    "* List\n",
    "* Containers\n",
    "* Dictionaries\n",
    "* Tuple"
   ]
  },
  {
   "cell_type": "markdown",
   "metadata": {},
   "source": [
    "### Containers Data Types\n",
    "* List\n",
    "* Dictionaries\n",
    "* Tuple"
   ]
  },
  {
   "cell_type": "markdown",
   "metadata": {},
   "source": [
    "### Arithmetic Operators\n",
    "![](images/arithmetic_table.png)"
   ]
  },
  {
   "cell_type": "markdown",
   "metadata": {},
   "source": [
    "### Comparison Operators\n",
    "![](images/operator_table.png)"
   ]
  },
  {
   "cell_type": "markdown",
   "metadata": {},
   "source": [
    "### Logical Operators\n",
    "* AND\n",
    "* OR\n",
    "* NO"
   ]
  },
  {
   "cell_type": "markdown",
   "metadata": {},
   "source": [
    "**-=Demo=-**"
   ]
  },
  {
   "cell_type": "code",
   "execution_count": 1,
   "metadata": {},
   "outputs": [
    {
     "name": "stdout",
     "output_type": "stream",
     "text": [
      "True\n",
      "False\n",
      "False\n",
      "True\n",
      "False\n",
      "True\n"
     ]
    }
   ],
   "source": [
    "card_number=9\n",
    "card_suit='clubs'\n",
    "print(card_number>5)\n",
    "print(card_number<5)\n",
    "print(card_number==5)\n",
    "print(card_number!=5)\n",
    "print(card_number==9 and card_suit=='hearts')\n",
    "print(card_number==9 or card_suit=='hearts')"
   ]
  },
  {
   "cell_type": "markdown",
   "metadata": {},
   "source": [
    "**-=Your Turn=-**\n",
    "Complete the below code to compare"
   ]
  },
  {
   "cell_type": "code",
   "execution_count": null,
   "metadata": {},
   "outputs": [],
   "source": []
  },
  {
   "cell_type": "code",
   "execution_count": null,
   "metadata": {},
   "outputs": [],
   "source": []
  },
  {
   "cell_type": "markdown",
   "metadata": {},
   "source": [
    "### Functions\n",
    "* All programming languages have functions that produce an output\n",
    "* Functions rely on parameters, or arguments, as input to know how to produce the desired output\n",
    "* A function can have multiple arguments\n",
    "* When an inner function is the variable to an outer funciton, the inner function is known as a **nested function**"
   ]
  },
  {
   "cell_type": "markdown",
   "metadata": {},
   "source": [
    "### Conditionals"
   ]
  },
  {
   "cell_type": "code",
   "execution_count": 10,
   "metadata": {},
   "outputs": [
    {
     "name": "stdout",
     "output_type": "stream",
     "text": [
      "Please enter a number 10\n",
      "You entered a positive number 10\n"
     ]
    }
   ],
   "source": [
    "# The below code will test if user_input is positive\n",
    "user_input=input('Please enter a number ')\n",
    "if int(user_input)>0: \n",
    "    print(f'You entered a positive number {user_input}')\n",
    "else: \n",
    "    print(f'You did not enter a positive')"
   ]
  },
  {
   "cell_type": "markdown",
   "metadata": {},
   "source": [
    "### Loops"
   ]
  },
  {
   "cell_type": "markdown",
   "metadata": {},
   "source": [
    "**-=Demo=-**  "
   ]
  },
  {
   "cell_type": "code",
   "execution_count": null,
   "metadata": {},
   "outputs": [],
   "source": []
  },
  {
   "cell_type": "code",
   "execution_count": 9,
   "metadata": {},
   "outputs": [
    {
     "name": "stdout",
     "output_type": "stream",
     "text": [
      "0\n",
      "1\n",
      "2\n"
     ]
    }
   ],
   "source": [
    "# The below code will loop through the list container and print out each item\n",
    "# i is the temperary variable and assigned the value of each element per loop\n",
    "# i can be any name\n",
    "for i in [0, 1, 2]: \n",
    "    print(i)"
   ]
  },
  {
   "cell_type": "code",
   "execution_count": null,
   "metadata": {},
   "outputs": [],
   "source": []
  },
  {
   "cell_type": "code",
   "execution_count": null,
   "metadata": {},
   "outputs": [],
   "source": []
  }
 ],
 "metadata": {
  "kernelspec": {
   "display_name": "Python 3",
   "language": "python",
   "name": "python3"
  },
  "language_info": {
   "codemirror_mode": {
    "name": "ipython",
    "version": 3
   },
   "file_extension": ".py",
   "mimetype": "text/x-python",
   "name": "python",
   "nbconvert_exporter": "python",
   "pygments_lexer": "ipython3",
   "version": "3.7.1"
  }
 },
 "nbformat": 4,
 "nbformat_minor": 2
}
