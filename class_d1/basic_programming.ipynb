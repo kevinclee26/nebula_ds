{
 "cells": [
  {
   "cell_type": "markdown",
   "metadata": {},
   "source": [
    "## Overview\n",
    "Today's class will introduce students to the program and the basics of Python programming language. The lesson will cover a brief history of Python, its use cases, and functional concepts. "
   ]
  },
  {
   "cell_type": "markdown",
   "metadata": {},
   "source": [
    "### Agenda\n",
    "1. Program Overview\n",
    "2. Programming Basics - Python & Notebooks\n",
    "3. Data Types\n",
    "4. Container Data Types\n",
    "5. Mathematical Operations\n",
    "6. Logical (Boolean) Operations\n",
    "7. Calculations"
   ]
  },
  {
   "cell_type": "markdown",
   "metadata": {},
   "source": [
    "---\n",
    "### Program Overview\n",
    "#### Schedule\n",
    "![agenda](images/agenda.jpg)"
   ]
  },
  {
   "cell_type": "markdown",
   "metadata": {},
   "source": [
    "---\n",
    "### Introduction to Data Science\n",
    "* Data Science is telling the story of data  \n",
    "* We will study the tools to help you understand the data"
   ]
  },
  {
   "cell_type": "markdown",
   "metadata": {},
   "source": [
    "#### -=Activity=-\n",
    "In the cell below, describe what you see from this data? What is the story? \n",
    "![height_vs_weight](images/height_vs_weight.png)"
   ]
  },
  {
   "cell_type": "markdown",
   "metadata": {},
   "source": [
    "#### -=Answer=-\n",
    "As the height increases, the weight also increases\n",
    "The minimum hgith is 130cm\n",
    "The minimum wiehg it 50kg\n",
    "the maximum weight is 75kg\n",
    "the maximum height is 200cm\n",
    "There is a linear relationship between height and weight"
   ]
  },
  {
   "cell_type": "markdown",
   "metadata": {},
   "source": [
    "#### -=Your Turn=-\n",
    "In the cell below, describe what you see from this data? What is the story?  \n",
    "![](images/temp_vs_month.png)"
   ]
  },
  {
   "cell_type": "markdown",
   "metadata": {},
   "source": [
    "#### -=Your Turn=-\n",
    "The monthly temperature for New Orleans increases from Jan - July and decrease from July to December"
   ]
  },
  {
   "cell_type": "markdown",
   "metadata": {},
   "source": [
    "---\n",
    "### Programming in Data Science\n",
    "* Programming can be used as a tool to process large datasets and perform calculations\n",
    "* Learning programming for data analysis is like learning to use the calculator for math, with a lot more buttons\n",
    "* We use programming to: \n",
    "\n",
    "\n",
    "1. Gather data\n",
    "2. Clean data\n",
    "3. Analyze data\n",
    "4. Visualization\n",
    "---"
   ]
  },
  {
   "cell_type": "markdown",
   "metadata": {},
   "source": [
    "### Python Basics\n",
    "* Python is an **interpreted**, **object-oriented**, **high-level** programming language with **dynamic semantics**\n",
    "* **Easy-to-Read Syntax**: Human-readable syntax that makes it easier to understand and debug applications. It's a semantic language which makes it easier to read and understand, and the reliance on indentation makes the organized structure quicker to grasp. With this language, we'll be able to dive into a slew of libraries that will make solving complex data problems more simple. \n",
    "* **Modularity**: A wide variety of standard and advanced libraries that can be easily imported into user applications. Many well-known data science and visualization libraries such as NumPy, Pandas, and Plotly. \n",
    "* **Cross-Platform Capability**: Runtime environments can be deployed on Windows, Mac, Linux. \n",
    "* **Robust Modeling, Financial Analytics, and Data Science Platform**: Supports a number of financial analytics and data science libraries such as Pandas, NumPy, Matplotlib, SciPy, and SciKit. \n",
    "\n",
    "#### Applications\n",
    "* Python is a high-level, general purpose programming language used to **create applications**, as well as solve smaller, individual development needs.\n",
    "* Python has been used to build **robust applications** and **analytic pipelines** for a wide range of computing needs.\n",
    "* In the financial industry, Python has been used to solve **complex quantitative problems** such as **sophisticated financial modeling/forecasting**, **algorithmic trading** and **decision making**, and **iterative and recursive data processing**.\n",
    "* Python can be used to **automate work** that's done in Excel, such as **data cleaning**, **data manipulation**, and **calculations**.\n",
    "\n",
    "[Python Reference Guide](Python_Reference_Guide.pdf)"
   ]
  },
  {
   "cell_type": "markdown",
   "metadata": {},
   "source": [
    "---\n",
    "### Notebook\n",
    "* Enables you to work with text editors, terminals, and custom components in a flexible, integrated, and extensible manner. \n",
    "* Created to provide developers and data scientists with a development environment (integrated development environment) that includes all of the tools needed to build Python programs. \n",
    "* An **integrated development environment (IDE)** is software that provides a text editor as well as technology to package code and interpret it.\n",
    "* Notebooks are an **interactive**, **web-based IDE** that supports the integration of live coding, document manipulation, narrative text, and data visualization.\n",
    "\n",
    "#### -=Demo=-\n",
    "Hit Enter (once) or double-click to edit cells\n",
    "Shift+Enter or click on Run button to execute the cell"
   ]
  },
  {
   "cell_type": "markdown",
   "metadata": {},
   "source": [
    "#### -=Your Turn=-\n",
    "<Familiarize yourself with the UI (user interface) of the notebook. Be sure to explore buttons such as Run, Reset, Add Cells, Save / Checkpoints, Markdown>"
   ]
  },
  {
   "cell_type": "markdown",
   "metadata": {},
   "source": [
    "---\n",
    "### Variables\n",
    "* Variables are one of the key components of programming languages and serve as the primary means of data storage. All variables must have a **name**, **value**, and **type**.\n",
    "* Variables allow us to name our data in ways that make it easier to understand and use in code, and provides the **freedom of choice** in regard to variable names.\n",
    "* Variables are **reserved allocations** in memory that can hold defined values. \n",
    "* Variables have three main operations: **create**, **input**, and **retrieve**. \n",
    "* A useful analogy for understanding the relationship between variables and values is an **envelope** and a **letter**: the envelope is the variable, and the value is the letter, or contents. calling a variable is like opening an envelope and withdrawing the contents.\n",
    "* An advantage of storing data as variables is that they can be referred to by **name** in later parts of the code.\n",
    "* To create a variable, **declare** it. \n",
    "* To put a value in a variable, **assign** it. \n",
    "* To retrieve a variable, **call** it. \n",
    "\n",
    "### Data Types\n",
    "* Number (integer, float, etc.)\n",
    "* String\n",
    "* Boolean\n",
    "\n",
    "#### -=Demo=-\n",
    "Think about any time you've kept score for a game or watched someone else keep score. It can be an involved process. Scores change all the time. Tally marks and points have to be tracked and calculated, and you're always searching for pen and paper.\n",
    "In this scenario, **score** is a variable that represents an ever-changing numeric number. We can track two scores in two different variables: **team_a_score** and **team_b_score**. Whenever Team A gets a point, the **team_a_score** variable should be incremented by 1. The same goes for Team B. At any moment, the two scores can be compared to find out who is winning.\n",
    "There are advantages to tracking performance or ranking in a game as **score**. First, it increases flexibility. We can reference **score** without specifying if its the score of a baseball game, video game, or even an exam. Regardless of context, **score** has a value, and that value has meaning. **score** as a word and concept is also easy to remember, and its significance is stored in people's mind (memory). **score** can be referenced in conversation, and others will understand its representation. This makes **score** a great example of a variable.\"\n",
    "\n",
    "#### -=Demo=-"
   ]
  },
  {
   "cell_type": "code",
   "execution_count": 43,
   "metadata": {},
   "outputs": [],
   "source": [
    "# # Creates a variable with a string \"Frankfurter\"\n",
    "# title = \"Frankfurterfdsafdsa\"\n",
    "# years = 23\n",
    "# hourly_wage = 65.40\n",
    "# expert_status = True\n",
    "\n",
    "# # Print the variables\n",
    "# print(title)\n",
    "# print(years)\n",
    "# print(hourly_wage)\n",
    "# print(expert_status)\n",
    "\n",
    "# # Prints the data type of each declared variable\n",
    "# print(\"The data type of variable title is\", type(title))\n",
    "# print(\"The data type of variable years is\", type(years))\n",
    "# print(\"The data type of variable hourly_wage is\", type(hourly_wage))\n",
    "# print(\"The data type of variable expert_status is\", type(expert_status))\n",
    "\n",
    "# Using variable names in calculations\n",
    "# Variables can be used in calculations. Using variable names can make it \n",
    "# easier to understand the logic in the code.\n",
    "# total_miles = 257\n",
    "# gallons_gas = 7.2\n",
    "# miles_per_gallon = total_miles / gallons_gas\n",
    "# print(miles_per_gallon)\n",
    "\n",
    "# Updating variables using assignment\n",
    "# When a value is put into a variable, the value is assigned. The variable \n",
    "# on the left of the = sign is assigned the value on the right. Values and \n",
    "# calculation results can be stored as variables.\n",
    "# miles = 48\n",
    "# kilometers = miles / 0.621371\n",
    "\n",
    "# Substituting/formatting variable\n",
    "# Variables can be substituted inside of strings using a formatted string \n",
    "# literal, or f-string. F-strings allow for concatenation, or combination \n",
    "# of multiple strings. In the following code, the variable kilometers is \n",
    "# converted to a string and then concatenated with the rest of the message.\n",
    "# message = f\"The total kilometers driven was: {kilometers}\"\n",
    "# print(message)\n",
    "\n",
    "# Variable naming conventions\n",
    "# Bad Example\n",
    "# mpg = 24\n",
    "# Better Example\n",
    "# miles_per_gallon = 24"
   ]
  },
  {
   "cell_type": "markdown",
   "metadata": {},
   "source": [
    "### Containers Data Types\n",
    "Python provides a number of **container datatypes**, both built-in types and those in the collections module in the Python Standard Library. Different data containers serve different **purposes**, provide different **functionality**, and present potentially very different **computational performance** for similar sorts of calculations. Thus, choosing the right container for the task at hand is an important step in achieving good performance. The core built-in containers in Python are **lists**, **tuples**, **dictionaries**, and **sets**.\n",
    "\n",
    "* **list**: a mutable sequence type, holding a collection of objects in a defined order (indexed by integers)\n",
    "* **tuple**: an immutable sequence type, holding a collection of objects in a defined order (indexed by integers)\n",
    "* **dict**: a mapping type, associating keys to values (unordered, indexed by keys)\n",
    "* **set**: an unordered collection of unique elements (accessed through set operations)"
   ]
  },
  {
   "cell_type": "markdown",
   "metadata": {},
   "source": [
    "---\n",
    "### Arithmetic Operators\n",
    "![](images/arithmetic_table.png)"
   ]
  },
  {
   "cell_type": "markdown",
   "metadata": {},
   "source": [
    "#### -=Your Turn=-"
   ]
  },
  {
   "cell_type": "code",
   "execution_count": 26,
   "metadata": {},
   "outputs": [],
   "source": [
    "# Percent Increase Bonus Activity\n",
    "\n",
    "# original price is $55\n",
    "# current price is $106.84\n",
    "\n",
    "# Formulas\n",
    "# Increase = Current Price - Original Price\n",
    "# Percent Increase = Increase / Original x 100\n",
    "\n",
    "# Create float variable for original_price\n",
    "\n",
    "\n",
    "# Create float variable for current_price\n",
    "\n",
    "\n",
    "# Calculate difference between current_price and original_price\n",
    "\n",
    "\n",
    "# Calculate percent_increase\n",
    "\n",
    "\n",
    "# Print original_price\n",
    "# print(f\"Apple's original stock price was ${original_price}\")\n",
    "\n",
    "# Print current_price\n",
    "# print(f\"Apples current stock price is ${current_price}\")\n",
    "\n",
    "# Print percent_increase"
   ]
  },
  {
   "cell_type": "markdown",
   "metadata": {},
   "source": [
    "---\n",
    "### Conditionals\n",
    "* Conditionals are Boolean expressions that evaluate a condition to determine whether it is true or false. The result of the valuation (true or false) determines the corresponding action. \n",
    "\n",
    "### Comparison Operators\n",
    "![](images/operator_table.png)\n",
    "\n",
    "* **Conditionals** are comparisons or evaluations of variables and their associated values.\n",
    "* In the previous activity, variables were used to tell computers what (data) to remember/store.\n",
    "* In this section, variables and their associated values are called upon and evaluated via conditionals, which determine the decisions or behavior the computer should exhibit.\n",
    "* Computers are simple in that they do exactly what you tell them to do. If you want to have a useful script, you must program decision logic into the computer.\n",
    "* Imagine a self-driving car. Writing code that tells the car's computer to drive forward is great for straight stretches of road. But what happens when a pedestrian is in the path? You need to include additional logic to instruct the car's computer to not hit the pedestrian. Computers only do what you tell them to!\n",
    "* This decision making is called **conditional logic**, and it is a fundamental building block of all computer programs.\n",
    "* Conditions can be specified, or variables can be used to store conditions for conditional statements.\n",
    "* Conditionals can be executed by using **if-else statements**.\n",
    "* If-else statements are created using the **if** and **else** keywords. Both keywords accept a condition.\n",
    "* Colons are used to indicate what action needs to be taken if the condition evaluates as **True**.\n",
    "\n",
    "#### -=Demo=-"
   ]
  },
  {
   "cell_type": "code",
   "execution_count": null,
   "metadata": {},
   "outputs": [],
   "source": [
    "# The below code will test if user_input is positive\n",
    "user_input=input('Please enter a number ')\n",
    "if int(user_input)>0: \n",
    "    print(f'You entered a positive number {user_input}')\n",
    "else: \n",
    "    print(f'You did not enter a positive')"
   ]
  },
  {
   "cell_type": "markdown",
   "metadata": {},
   "source": [
    "**NOTE**\n",
    "* **Indentation** - indentation is more than just organization and readability. Python's functionality actually depends on proper indentation! In this snippet, we're using indentation to tell our code where our for loops begin and end. In Python, indenting creates blocks of code that work together. Similarly, indenting backwards tells the program when to end a loop.\n",
    "* The code you will write in Python will eventually be seen by someone else. Focusing on organization and readability is important because you want colleagues to be able to read your code. If your code is poorly organized it will be difficult to read later on.\n",
    "\n",
    "### Logical Operators\n",
    "* AND\n",
    "* OR\n",
    "* NO\n",
    "\n",
    "#### -=Demo=-"
   ]
  },
  {
   "cell_type": "code",
   "execution_count": null,
   "metadata": {},
   "outputs": [],
   "source": [
    "card_number=9\n",
    "card_suit='clubs'\n",
    "print(card_number>5)\n",
    "print(card_number<5)\n",
    "print(card_number==5)\n",
    "print(card_number!=5)\n",
    "print(card_number==9 and card_suit=='hearts')\n",
    "print(card_number==9 or card_suit=='hearts')"
   ]
  },
  {
   "cell_type": "code",
   "execution_count": null,
   "metadata": {},
   "outputs": [],
   "source": [
    "# Demonstrate conditional statement\n",
    "# if True:\n",
    "    # Do something\n",
    "# else:\n",
    "    # Do something else\n",
    "\n",
    "# Demonstrate conditional with print statement\n",
    "is_raining = True\n",
    "if is_raining:\n",
    "    print(\"Bring an umbrella!\")\n",
    "else:\n",
    "    print(\"Leave the umbrella at home!\")\n",
    "\n",
    "# Demonstrate equality\n",
    "x = 5\n",
    "if x == 1:\n",
    "    print(\"x is equal to 1\")\n",
    "\n",
    "# Demonstrate using variables to store conditions\n",
    "x = 5\n",
    "y = 10\n",
    "if x == y:\n",
    "    print(\"x is equal to y\")\n",
    "\n",
    "# Check inequality\n",
    "y = 9\n",
    "if y != 1:\n",
    "    print(\"y is not equal to 1\")\n",
    "\n",
    "# Declare variables and values for evaluation\n",
    "x = 1\n",
    "y = 10\n",
    "\n",
    "# Checks if one value is equal to another\n",
    "if x == 1:\n",
    "    print(\"x is equal to 1\")\n",
    "\n",
    "# Checks if one value is NOT equal to another\n",
    "if y != 1:\n",
    "    print(\"y is not equal to 1\")\n",
    "\n",
    "# Checks if one value is less than another\n",
    "if x < y:\n",
    "    print(\"x is less than y\")\n",
    "\n",
    "# Checks if one value is greater than another\n",
    "if y > x:\n",
    "    print(\"y is greater than x\")\n",
    "\n",
    "# Checks if a value is less than or equal to another\n",
    "if x >= 1:\n",
    "    print(\"x is greater than or equal to 1\")\n",
    "\n",
    "# Checks for two conditions to be met using \"and\"\n",
    "if x == 1 and y == 10:\n",
    "    print(\"Both values returned True\")\n",
    "\n",
    "# Checks for two conditions to be met using and\n",
    "if x == 1 and y < 10:\n",
    "    print(\"Both values returned True\")\n",
    "\n",
    "# Checks if either of two conditions is met\n",
    "if x < 45 or y < 5:\n",
    "    print(\"One or more of the statements were True\")\n",
    "\n",
    "# Nested if statements\n",
    "if x < 10:\n",
    "    if y < 5:\n",
    "        print(\"x is less than 10 and y is less than 5\")\n",
    "    elif y == 5:\n",
    "        print(\"x is less than 10 and y is equal to 5\")\n",
    "    else:\n",
    "        print(\"x is less than 10 and y is greater than 5\")\n",
    "\n",
    "# Nested if statements with insurance premium predictor\n",
    "accident = True\n",
    "at_fault = False\n",
    "accident_forgiveness = True\n",
    "elite_status = True\n",
    "\n",
    "increase_insurance_premium = True\n",
    "\n",
    "print(\"Insurance premium will increase. True or False?\")\n",
    "\n",
    "# Nested Conditional Statements\n",
    "if accident:\n",
    "    if at_fault and accident_forgiveness:\n",
    "        increase_insurance_premium = False\n",
    "    elif at_fault and not accident_forgiveness and not elite_status:\n",
    "        increase_insurance_premium = True\n",
    "    else:\n",
    "        increase_insurance_premium = False\n",
    "elif not accident and elite_status:\n",
    "    increase_insurance_premium = False\n",
    "else:\n",
    "    increase_insurance_premium = True\n",
    "\n",
    "print(f\"Prediction: {increase_insurance_premium}\")"
   ]
  },
  {
   "cell_type": "markdown",
   "metadata": {},
   "source": [
    "**-=Your Turn=-**\n",
    "Guess the output for each question"
   ]
  },
  {
   "cell_type": "code",
   "execution_count": null,
   "metadata": {},
   "outputs": [],
   "source": [
    "# 1.\n",
    "x = 5\n",
    "y = 10\n",
    "if 2 * x > 10:\n",
    "    print(\"Question 1 works!\")\n",
    "else:\n",
    "    print(\"Oooo needs some work\")\n",
    "\n",
    "# 2.\n",
    "x = 5\n",
    "y = 10\n",
    "if len(\"Dog\") < x:\n",
    "    print(\"Question 2 works!\")\n",
    "else:\n",
    "    print(\"Still missing out\")\n",
    "\n",
    "# 3.\n",
    "age = 21\n",
    "if age > 20:\n",
    "    print(\"You are of drinking age!\")\n",
    "else:\n",
    "    print(\"Argggggh! You think you can hoodwink me, matey?! You're too young to drink!\")\n",
    "\n",
    "# 4.\n",
    "x = 2\n",
    "y = 5\n",
    "if (x ** 3 >= y) and (y ** 2 < 26):\n",
    "    print(\"GOT QUESTION 4!\")\n",
    "else:\n",
    "    print(\"Oh good you can count\")\n",
    "\n",
    "# 5.\n",
    "height = 66\n",
    "age = 16\n",
    "adult_permission = True\n",
    "\n",
    "if (height > 70) and (age >= 18):\n",
    "    print(\"Can ride all the roller coasters\")\n",
    "elif (height > 65) and (age >= 18):\n",
    "    print(\"Can ride moderate roller coasters\")\n",
    "elif (height > 60) and (age >= 18):\n",
    "    print(\"Can ride light roller coasters\")\n",
    "elif ((height > 50) and (age >= 18)) or ((adult_permission) and (height > 50)):\n",
    "    print(\"Can ride bumper cars\")\n",
    "else:\n",
    "    print(\"Stick to lazy river\")"
   ]
  },
  {
   "cell_type": "markdown",
   "metadata": {},
   "source": [
    "---\n",
    "### Loops\n",
    "* A **for loop** is used for iterating over a sequence such as a list or dictionary"
   ]
  },
  {
   "cell_type": "markdown",
   "metadata": {},
   "source": [
    "**-=Demo=-**  "
   ]
  },
  {
   "cell_type": "code",
   "execution_count": null,
   "metadata": {},
   "outputs": [],
   "source": [
    "# The below code will loop through the list container and print out each item\n",
    "# i is the temperary variable and assigned the value of each element per loop\n",
    "# i can be any name\n",
    "for i in [0, 1, 2]: \n",
    "    print(i)"
   ]
  },
  {
   "cell_type": "code",
   "execution_count": null,
   "metadata": {},
   "outputs": [],
   "source": [
    "# Iteratie through letters in a string\n",
    "word='Python'\n",
    "for each_letter in word: \n",
    "    print(each_letter)"
   ]
  },
  {
   "cell_type": "markdown",
   "metadata": {},
   "source": [
    "### Functions\n",
    "* All programming languages have functions that produce an output\n",
    "* Functions rely on parameters, or arguments, as input to know how to produce the desired output\n",
    "* A function can have multiple arguments\n",
    "* When an inner function is the variable to an outer funciton, the inner function is known as a **nested function**"
   ]
  },
  {
   "cell_type": "code",
   "execution_count": null,
   "metadata": {},
   "outputs": [],
   "source": [
    "for each_num in range(10): \n",
    "    print(each_num)"
   ]
  },
  {
   "cell_type": "code",
   "execution_count": null,
   "metadata": {
    "scrolled": false
   },
   "outputs": [],
   "source": [
    "for each_num in range(5, 11):\n",
    "    print(each_num)"
   ]
  },
  {
   "cell_type": "code",
   "execution_count": null,
   "metadata": {},
   "outputs": [],
   "source": [
    "def hello_world(): \n",
    "    print('Hello World')\n",
    "\n",
    "hello_world()"
   ]
  }
 ],
 "metadata": {
  "kernelspec": {
   "display_name": "Python 3",
   "language": "python",
   "name": "python3"
  },
  "language_info": {
   "codemirror_mode": {
    "name": "ipython",
    "version": 3
   },
   "file_extension": ".py",
   "mimetype": "text/x-python",
   "name": "python",
   "nbconvert_exporter": "python",
   "pygments_lexer": "ipython3",
   "version": "3.7.1"
  }
 },
 "nbformat": 4,
 "nbformat_minor": 2
}
