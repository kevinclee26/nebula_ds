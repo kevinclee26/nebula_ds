{
 "cells": [
  {
   "cell_type": "code",
   "execution_count": 1,
   "id": "a1e675c7",
   "metadata": {},
   "outputs": [],
   "source": [
    "import requests"
   ]
  },
  {
   "cell_type": "code",
   "execution_count": 2,
   "id": "31b12971",
   "metadata": {},
   "outputs": [],
   "source": [
    "response=requests.get('https://api.spacexdata.com/v3/launches')"
   ]
  },
  {
   "cell_type": "code",
   "execution_count": 3,
   "id": "a55d489e",
   "metadata": {},
   "outputs": [],
   "source": [
    "data=response.json()"
   ]
  },
  {
   "cell_type": "code",
   "execution_count": 4,
   "id": "b6788c90",
   "metadata": {},
   "outputs": [
    {
     "data": {
      "text/html": [
       "<div>\n",
       "<style scoped>\n",
       "    .dataframe tbody tr th:only-of-type {\n",
       "        vertical-align: middle;\n",
       "    }\n",
       "\n",
       "    .dataframe tbody tr th {\n",
       "        vertical-align: top;\n",
       "    }\n",
       "\n",
       "    .dataframe thead th {\n",
       "        text-align: right;\n",
       "    }\n",
       "</style>\n",
       "<table border=\"1\" class=\"dataframe\">\n",
       "  <thead>\n",
       "    <tr style=\"text-align: right;\">\n",
       "      <th></th>\n",
       "      <th>flight_number</th>\n",
       "      <th>mission_name</th>\n",
       "      <th>mission_id</th>\n",
       "      <th>upcoming</th>\n",
       "      <th>launch_year</th>\n",
       "      <th>launch_date_unix</th>\n",
       "      <th>launch_date_utc</th>\n",
       "      <th>launch_date_local</th>\n",
       "      <th>is_tentative</th>\n",
       "      <th>tentative_max_precision</th>\n",
       "      <th>...</th>\n",
       "      <th>static_fire_date_unix</th>\n",
       "      <th>timeline</th>\n",
       "      <th>crew</th>\n",
       "      <th>last_date_update</th>\n",
       "      <th>last_ll_launch_date</th>\n",
       "      <th>last_ll_update</th>\n",
       "      <th>last_wiki_launch_date</th>\n",
       "      <th>last_wiki_revision</th>\n",
       "      <th>last_wiki_update</th>\n",
       "      <th>launch_date_source</th>\n",
       "    </tr>\n",
       "  </thead>\n",
       "  <tbody>\n",
       "    <tr>\n",
       "      <th>0</th>\n",
       "      <td>1</td>\n",
       "      <td>FalconSat</td>\n",
       "      <td>[]</td>\n",
       "      <td>False</td>\n",
       "      <td>2006</td>\n",
       "      <td>1143239400</td>\n",
       "      <td>2006-03-24T22:30:00.000Z</td>\n",
       "      <td>2006-03-25T10:30:00+12:00</td>\n",
       "      <td>False</td>\n",
       "      <td>hour</td>\n",
       "      <td>...</td>\n",
       "      <td>1.142554e+09</td>\n",
       "      <td>{'webcast_liftoff': 54}</td>\n",
       "      <td>None</td>\n",
       "      <td>NaN</td>\n",
       "      <td>NaN</td>\n",
       "      <td>NaN</td>\n",
       "      <td>NaN</td>\n",
       "      <td>NaN</td>\n",
       "      <td>NaN</td>\n",
       "      <td>NaN</td>\n",
       "    </tr>\n",
       "    <tr>\n",
       "      <th>1</th>\n",
       "      <td>2</td>\n",
       "      <td>DemoSat</td>\n",
       "      <td>[]</td>\n",
       "      <td>False</td>\n",
       "      <td>2007</td>\n",
       "      <td>1174439400</td>\n",
       "      <td>2007-03-21T01:10:00.000Z</td>\n",
       "      <td>2007-03-21T13:10:00+12:00</td>\n",
       "      <td>False</td>\n",
       "      <td>hour</td>\n",
       "      <td>...</td>\n",
       "      <td>NaN</td>\n",
       "      <td>{'webcast_liftoff': 60}</td>\n",
       "      <td>None</td>\n",
       "      <td>NaN</td>\n",
       "      <td>NaN</td>\n",
       "      <td>NaN</td>\n",
       "      <td>NaN</td>\n",
       "      <td>NaN</td>\n",
       "      <td>NaN</td>\n",
       "      <td>NaN</td>\n",
       "    </tr>\n",
       "    <tr>\n",
       "      <th>2</th>\n",
       "      <td>3</td>\n",
       "      <td>Trailblazer</td>\n",
       "      <td>[]</td>\n",
       "      <td>False</td>\n",
       "      <td>2008</td>\n",
       "      <td>1217734440</td>\n",
       "      <td>2008-08-03T03:34:00.000Z</td>\n",
       "      <td>2008-08-03T15:34:00+12:00</td>\n",
       "      <td>False</td>\n",
       "      <td>hour</td>\n",
       "      <td>...</td>\n",
       "      <td>NaN</td>\n",
       "      <td>{'webcast_liftoff': 14}</td>\n",
       "      <td>None</td>\n",
       "      <td>NaN</td>\n",
       "      <td>NaN</td>\n",
       "      <td>NaN</td>\n",
       "      <td>NaN</td>\n",
       "      <td>NaN</td>\n",
       "      <td>NaN</td>\n",
       "      <td>NaN</td>\n",
       "    </tr>\n",
       "    <tr>\n",
       "      <th>3</th>\n",
       "      <td>4</td>\n",
       "      <td>RatSat</td>\n",
       "      <td>[]</td>\n",
       "      <td>False</td>\n",
       "      <td>2008</td>\n",
       "      <td>1222643700</td>\n",
       "      <td>2008-09-28T23:15:00.000Z</td>\n",
       "      <td>2008-09-28T11:15:00+12:00</td>\n",
       "      <td>False</td>\n",
       "      <td>hour</td>\n",
       "      <td>...</td>\n",
       "      <td>1.221869e+09</td>\n",
       "      <td>{'webcast_liftoff': 5}</td>\n",
       "      <td>None</td>\n",
       "      <td>NaN</td>\n",
       "      <td>NaN</td>\n",
       "      <td>NaN</td>\n",
       "      <td>NaN</td>\n",
       "      <td>NaN</td>\n",
       "      <td>NaN</td>\n",
       "      <td>NaN</td>\n",
       "    </tr>\n",
       "    <tr>\n",
       "      <th>4</th>\n",
       "      <td>5</td>\n",
       "      <td>RazakSat</td>\n",
       "      <td>[]</td>\n",
       "      <td>False</td>\n",
       "      <td>2009</td>\n",
       "      <td>1247456100</td>\n",
       "      <td>2009-07-13T03:35:00.000Z</td>\n",
       "      <td>2009-07-13T15:35:00+12:00</td>\n",
       "      <td>False</td>\n",
       "      <td>hour</td>\n",
       "      <td>...</td>\n",
       "      <td>NaN</td>\n",
       "      <td>{'webcast_liftoff': 5}</td>\n",
       "      <td>None</td>\n",
       "      <td>NaN</td>\n",
       "      <td>NaN</td>\n",
       "      <td>NaN</td>\n",
       "      <td>NaN</td>\n",
       "      <td>NaN</td>\n",
       "      <td>NaN</td>\n",
       "      <td>NaN</td>\n",
       "    </tr>\n",
       "    <tr>\n",
       "      <th>...</th>\n",
       "      <td>...</td>\n",
       "      <td>...</td>\n",
       "      <td>...</td>\n",
       "      <td>...</td>\n",
       "      <td>...</td>\n",
       "      <td>...</td>\n",
       "      <td>...</td>\n",
       "      <td>...</td>\n",
       "      <td>...</td>\n",
       "      <td>...</td>\n",
       "      <td>...</td>\n",
       "      <td>...</td>\n",
       "      <td>...</td>\n",
       "      <td>...</td>\n",
       "      <td>...</td>\n",
       "      <td>...</td>\n",
       "      <td>...</td>\n",
       "      <td>...</td>\n",
       "      <td>...</td>\n",
       "      <td>...</td>\n",
       "      <td>...</td>\n",
       "    </tr>\n",
       "    <tr>\n",
       "      <th>106</th>\n",
       "      <td>107</td>\n",
       "      <td>Crew-1</td>\n",
       "      <td>[EE86F74]</td>\n",
       "      <td>False</td>\n",
       "      <td>2020</td>\n",
       "      <td>1605486420</td>\n",
       "      <td>2020-11-16T00:27:00.000Z</td>\n",
       "      <td>2020-11-15T19:27:00-05:00</td>\n",
       "      <td>False</td>\n",
       "      <td>hour</td>\n",
       "      <td>...</td>\n",
       "      <td>NaN</td>\n",
       "      <td>None</td>\n",
       "      <td>[]</td>\n",
       "      <td>2020-11-13T21:31:19.000Z</td>\n",
       "      <td>None</td>\n",
       "      <td>None</td>\n",
       "      <td>2020-11-16T00:27:00.000Z</td>\n",
       "      <td>90e9da15-25f7-11eb-badd-0e3a392f3e47</td>\n",
       "      <td>2020-11-13T21:31:19.000Z</td>\n",
       "      <td>wiki</td>\n",
       "    </tr>\n",
       "    <tr>\n",
       "      <th>107</th>\n",
       "      <td>108</td>\n",
       "      <td>Sentinel-6 Michael Freilich</td>\n",
       "      <td>[]</td>\n",
       "      <td>False</td>\n",
       "      <td>2020</td>\n",
       "      <td>1605979020</td>\n",
       "      <td>2020-11-21T17:17:00.000Z</td>\n",
       "      <td>2020-11-21T09:17:00-08:00</td>\n",
       "      <td>False</td>\n",
       "      <td>hour</td>\n",
       "      <td>...</td>\n",
       "      <td>1.605619e+09</td>\n",
       "      <td>None</td>\n",
       "      <td>None</td>\n",
       "      <td>2020-11-17T19:27:21.000Z</td>\n",
       "      <td>2020-11-21T17:17:00.000Z</td>\n",
       "      <td>2020-11-05T23:48:07.000Z</td>\n",
       "      <td>2020-11-21T17:17:00.000Z</td>\n",
       "      <td>e93220d1-290a-11eb-bd82-0e4885cc0cd7</td>\n",
       "      <td>2020-11-17T19:27:21.000Z</td>\n",
       "      <td>wiki</td>\n",
       "    </tr>\n",
       "    <tr>\n",
       "      <th>108</th>\n",
       "      <td>109</td>\n",
       "      <td>Starlink-15 (v1.0)</td>\n",
       "      <td>[]</td>\n",
       "      <td>False</td>\n",
       "      <td>2020</td>\n",
       "      <td>1603553460</td>\n",
       "      <td>2020-10-24T15:31:00.000Z</td>\n",
       "      <td>2020-10-24T11:31:00-04:00</td>\n",
       "      <td>False</td>\n",
       "      <td>hour</td>\n",
       "      <td>...</td>\n",
       "      <td>1.605976e+09</td>\n",
       "      <td>None</td>\n",
       "      <td>None</td>\n",
       "      <td>NaN</td>\n",
       "      <td>NaN</td>\n",
       "      <td>NaN</td>\n",
       "      <td>NaN</td>\n",
       "      <td>NaN</td>\n",
       "      <td>NaN</td>\n",
       "      <td>NaN</td>\n",
       "    </tr>\n",
       "    <tr>\n",
       "      <th>109</th>\n",
       "      <td>110</td>\n",
       "      <td>CRS-21</td>\n",
       "      <td>[EE86F74]</td>\n",
       "      <td>True</td>\n",
       "      <td>2020</td>\n",
       "      <td>1607271420</td>\n",
       "      <td>2020-12-06T16:17:00.000Z</td>\n",
       "      <td>2020-12-06T11:17:00-05:00</td>\n",
       "      <td>False</td>\n",
       "      <td>hour</td>\n",
       "      <td>...</td>\n",
       "      <td>NaN</td>\n",
       "      <td>None</td>\n",
       "      <td>None</td>\n",
       "      <td>2020-12-05T13:04:54.000Z</td>\n",
       "      <td>None</td>\n",
       "      <td>None</td>\n",
       "      <td>2020-12-06T16:17:00.000Z</td>\n",
       "      <td>774e7809-36fa-11eb-a5dc-0e33339b29dd</td>\n",
       "      <td>2020-12-05T13:04:54.000Z</td>\n",
       "      <td>wiki</td>\n",
       "    </tr>\n",
       "    <tr>\n",
       "      <th>110</th>\n",
       "      <td>110</td>\n",
       "      <td>SXM-7</td>\n",
       "      <td>[]</td>\n",
       "      <td>True</td>\n",
       "      <td>2020</td>\n",
       "      <td>1607880600</td>\n",
       "      <td>2020-12-13T17:30:00.000Z</td>\n",
       "      <td>2020-12-13T12:30:00-05:00</td>\n",
       "      <td>False</td>\n",
       "      <td>hour</td>\n",
       "      <td>...</td>\n",
       "      <td>NaN</td>\n",
       "      <td>None</td>\n",
       "      <td>None</td>\n",
       "      <td>2020-12-13T17:03:48.000Z</td>\n",
       "      <td>None</td>\n",
       "      <td>None</td>\n",
       "      <td>2020-12-13T17:30:00.000Z</td>\n",
       "      <td>2aa9a2fe-3d65-11eb-abb7-0e98a0ca8665</td>\n",
       "      <td>2020-12-13T17:03:48.000Z</td>\n",
       "      <td>wiki</td>\n",
       "    </tr>\n",
       "  </tbody>\n",
       "</table>\n",
       "<p>111 rows × 31 columns</p>\n",
       "</div>"
      ],
      "text/plain": [
       "     flight_number                 mission_name mission_id  upcoming  \\\n",
       "0                1                    FalconSat         []     False   \n",
       "1                2                      DemoSat         []     False   \n",
       "2                3                  Trailblazer         []     False   \n",
       "3                4                       RatSat         []     False   \n",
       "4                5                     RazakSat         []     False   \n",
       "..             ...                          ...        ...       ...   \n",
       "106            107                       Crew-1  [EE86F74]     False   \n",
       "107            108  Sentinel-6 Michael Freilich         []     False   \n",
       "108            109           Starlink-15 (v1.0)         []     False   \n",
       "109            110                       CRS-21  [EE86F74]      True   \n",
       "110            110                        SXM-7         []      True   \n",
       "\n",
       "    launch_year  launch_date_unix           launch_date_utc  \\\n",
       "0          2006        1143239400  2006-03-24T22:30:00.000Z   \n",
       "1          2007        1174439400  2007-03-21T01:10:00.000Z   \n",
       "2          2008        1217734440  2008-08-03T03:34:00.000Z   \n",
       "3          2008        1222643700  2008-09-28T23:15:00.000Z   \n",
       "4          2009        1247456100  2009-07-13T03:35:00.000Z   \n",
       "..          ...               ...                       ...   \n",
       "106        2020        1605486420  2020-11-16T00:27:00.000Z   \n",
       "107        2020        1605979020  2020-11-21T17:17:00.000Z   \n",
       "108        2020        1603553460  2020-10-24T15:31:00.000Z   \n",
       "109        2020        1607271420  2020-12-06T16:17:00.000Z   \n",
       "110        2020        1607880600  2020-12-13T17:30:00.000Z   \n",
       "\n",
       "             launch_date_local  is_tentative tentative_max_precision  ...  \\\n",
       "0    2006-03-25T10:30:00+12:00         False                    hour  ...   \n",
       "1    2007-03-21T13:10:00+12:00         False                    hour  ...   \n",
       "2    2008-08-03T15:34:00+12:00         False                    hour  ...   \n",
       "3    2008-09-28T11:15:00+12:00         False                    hour  ...   \n",
       "4    2009-07-13T15:35:00+12:00         False                    hour  ...   \n",
       "..                         ...           ...                     ...  ...   \n",
       "106  2020-11-15T19:27:00-05:00         False                    hour  ...   \n",
       "107  2020-11-21T09:17:00-08:00         False                    hour  ...   \n",
       "108  2020-10-24T11:31:00-04:00         False                    hour  ...   \n",
       "109  2020-12-06T11:17:00-05:00         False                    hour  ...   \n",
       "110  2020-12-13T12:30:00-05:00         False                    hour  ...   \n",
       "\n",
       "     static_fire_date_unix                 timeline  crew  \\\n",
       "0             1.142554e+09  {'webcast_liftoff': 54}  None   \n",
       "1                      NaN  {'webcast_liftoff': 60}  None   \n",
       "2                      NaN  {'webcast_liftoff': 14}  None   \n",
       "3             1.221869e+09   {'webcast_liftoff': 5}  None   \n",
       "4                      NaN   {'webcast_liftoff': 5}  None   \n",
       "..                     ...                      ...   ...   \n",
       "106                    NaN                     None    []   \n",
       "107           1.605619e+09                     None  None   \n",
       "108           1.605976e+09                     None  None   \n",
       "109                    NaN                     None  None   \n",
       "110                    NaN                     None  None   \n",
       "\n",
       "             last_date_update       last_ll_launch_date  \\\n",
       "0                         NaN                       NaN   \n",
       "1                         NaN                       NaN   \n",
       "2                         NaN                       NaN   \n",
       "3                         NaN                       NaN   \n",
       "4                         NaN                       NaN   \n",
       "..                        ...                       ...   \n",
       "106  2020-11-13T21:31:19.000Z                      None   \n",
       "107  2020-11-17T19:27:21.000Z  2020-11-21T17:17:00.000Z   \n",
       "108                       NaN                       NaN   \n",
       "109  2020-12-05T13:04:54.000Z                      None   \n",
       "110  2020-12-13T17:03:48.000Z                      None   \n",
       "\n",
       "               last_ll_update     last_wiki_launch_date  \\\n",
       "0                         NaN                       NaN   \n",
       "1                         NaN                       NaN   \n",
       "2                         NaN                       NaN   \n",
       "3                         NaN                       NaN   \n",
       "4                         NaN                       NaN   \n",
       "..                        ...                       ...   \n",
       "106                      None  2020-11-16T00:27:00.000Z   \n",
       "107  2020-11-05T23:48:07.000Z  2020-11-21T17:17:00.000Z   \n",
       "108                       NaN                       NaN   \n",
       "109                      None  2020-12-06T16:17:00.000Z   \n",
       "110                      None  2020-12-13T17:30:00.000Z   \n",
       "\n",
       "                       last_wiki_revision          last_wiki_update  \\\n",
       "0                                     NaN                       NaN   \n",
       "1                                     NaN                       NaN   \n",
       "2                                     NaN                       NaN   \n",
       "3                                     NaN                       NaN   \n",
       "4                                     NaN                       NaN   \n",
       "..                                    ...                       ...   \n",
       "106  90e9da15-25f7-11eb-badd-0e3a392f3e47  2020-11-13T21:31:19.000Z   \n",
       "107  e93220d1-290a-11eb-bd82-0e4885cc0cd7  2020-11-17T19:27:21.000Z   \n",
       "108                                   NaN                       NaN   \n",
       "109  774e7809-36fa-11eb-a5dc-0e33339b29dd  2020-12-05T13:04:54.000Z   \n",
       "110  2aa9a2fe-3d65-11eb-abb7-0e98a0ca8665  2020-12-13T17:03:48.000Z   \n",
       "\n",
       "    launch_date_source  \n",
       "0                  NaN  \n",
       "1                  NaN  \n",
       "2                  NaN  \n",
       "3                  NaN  \n",
       "4                  NaN  \n",
       "..                 ...  \n",
       "106               wiki  \n",
       "107               wiki  \n",
       "108                NaN  \n",
       "109               wiki  \n",
       "110               wiki  \n",
       "\n",
       "[111 rows x 31 columns]"
      ]
     },
     "execution_count": 4,
     "metadata": {},
     "output_type": "execute_result"
    }
   ],
   "source": [
    "import pandas as pd\n",
    "pd.DataFrame(data)"
   ]
  },
  {
   "cell_type": "code",
   "execution_count": null,
   "id": "b2d66191",
   "metadata": {},
   "outputs": [],
   "source": []
  },
  {
   "cell_type": "code",
   "execution_count": 5,
   "id": "7f5d66e9",
   "metadata": {},
   "outputs": [
    {
     "name": "stdout",
     "output_type": "stream",
     "text": [
      "More than 1 payload\n",
      "More than 1 payload\n",
      "More than 1 payload\n",
      "More than 1 payload\n",
      "More than 1 payload\n",
      "More than 1 payload\n",
      "More than 1 payload\n",
      "More than 1 payload\n",
      "More than 1 payload\n",
      "More than 1 payload\n"
     ]
    }
   ],
   "source": [
    "for each_launch in data: \n",
    "    if len(each_launch['rocket']['second_stage']['payloads']) > 1: \n",
    "        print('More than 1 payload')"
   ]
  },
  {
   "cell_type": "code",
   "execution_count": 31,
   "id": "0db494c2",
   "metadata": {},
   "outputs": [],
   "source": [
    "flight_number=[]\n",
    "mission_name=[]\n",
    "mission_id=[]\n",
    "launch_year=[]\n",
    "launch_date_utc=[]\n",
    "rocket_id=[]\n",
    "rocket_name=[]\n",
    "rocket_type=[]\n",
    "\n",
    "payload_id=[]\n",
    "norad_id=[]\n",
    "customers=[]\n",
    "nationality=[]\n",
    "manufacturer=[]\n",
    "payload_type=[]\n",
    "payload_mass_lbs=[]\n",
    "orbit=[]\n",
    "\n",
    "fairings_reused=[]\n",
    "fairings_recovered=[]\n",
    "launch_site_id=[]\n",
    "launch_site_name=[]\n",
    "launch_success=[]"
   ]
  },
  {
   "cell_type": "code",
   "execution_count": 32,
   "id": "3038e0a5",
   "metadata": {},
   "outputs": [
    {
     "data": {
      "text/plain": [
       "0"
      ]
     },
     "metadata": {},
     "output_type": "display_data"
    },
    {
     "data": {
      "text/plain": [
       "0"
      ]
     },
     "metadata": {},
     "output_type": "display_data"
    },
    {
     "data": {
      "text/plain": [
       "0"
      ]
     },
     "metadata": {},
     "output_type": "display_data"
    },
    {
     "data": {
      "text/plain": [
       "0"
      ]
     },
     "metadata": {},
     "output_type": "display_data"
    },
    {
     "data": {
      "text/plain": [
       "0"
      ]
     },
     "metadata": {},
     "output_type": "display_data"
    },
    {
     "data": {
      "text/plain": [
       "0"
      ]
     },
     "metadata": {},
     "output_type": "display_data"
    },
    {
     "data": {
      "text/plain": [
       "0"
      ]
     },
     "metadata": {},
     "output_type": "display_data"
    },
    {
     "data": {
      "text/plain": [
       "0"
      ]
     },
     "metadata": {},
     "output_type": "display_data"
    },
    {
     "data": {
      "text/plain": [
       "0"
      ]
     },
     "metadata": {},
     "output_type": "display_data"
    },
    {
     "data": {
      "text/plain": [
       "0"
      ]
     },
     "metadata": {},
     "output_type": "display_data"
    },
    {
     "data": {
      "text/plain": [
       "0"
      ]
     },
     "metadata": {},
     "output_type": "display_data"
    },
    {
     "data": {
      "text/plain": [
       "0"
      ]
     },
     "metadata": {},
     "output_type": "display_data"
    },
    {
     "data": {
      "text/plain": [
       "0"
      ]
     },
     "metadata": {},
     "output_type": "display_data"
    },
    {
     "data": {
      "text/plain": [
       "0"
      ]
     },
     "metadata": {},
     "output_type": "display_data"
    },
    {
     "data": {
      "text/plain": [
       "0"
      ]
     },
     "metadata": {},
     "output_type": "display_data"
    },
    {
     "data": {
      "text/plain": [
       "0"
      ]
     },
     "metadata": {},
     "output_type": "display_data"
    },
    {
     "data": {
      "text/plain": [
       "0"
      ]
     },
     "metadata": {},
     "output_type": "display_data"
    },
    {
     "data": {
      "text/plain": [
       "0"
      ]
     },
     "metadata": {},
     "output_type": "display_data"
    },
    {
     "data": {
      "text/plain": [
       "0"
      ]
     },
     "metadata": {},
     "output_type": "display_data"
    },
    {
     "data": {
      "text/plain": [
       "0"
      ]
     },
     "metadata": {},
     "output_type": "display_data"
    },
    {
     "data": {
      "text/plain": [
       "0"
      ]
     },
     "metadata": {},
     "output_type": "display_data"
    }
   ],
   "source": [
    "display(len(flight_number))\n",
    "display(len(mission_name))\n",
    "display(len(mission_id))\n",
    "display(len(launch_year))\n",
    "display(len(launch_date_utc))\n",
    "display(len(rocket_id))\n",
    "display(len(rocket_name))\n",
    "display(len(rocket_type))\n",
    "display(len(payload_id))\n",
    "display(len(norad_id))\n",
    "display(len(customers))\n",
    "display(len(nationality))\n",
    "display(len(manufacturer))\n",
    "display(len(payload_type))\n",
    "display(len(payload_mass_lbs))\n",
    "display(len(orbit))\n",
    "display(len(fairings_reused))\n",
    "display(len(fairings_recovered))\n",
    "display(len(launch_site_id))\n",
    "display(len(launch_site_name))\n",
    "display(len(launch_success))"
   ]
  },
  {
   "cell_type": "code",
   "execution_count": 33,
   "id": "2e00fbf3",
   "metadata": {},
   "outputs": [
    {
     "name": "stdout",
     "output_type": "stream",
     "text": [
      "FalconSat\n",
      "DemoSat\n",
      "Trailblazer\n",
      "RatSat\n",
      "RazakSat\n",
      "Falcon 9 Test Flight\n",
      "COTS 1\n",
      "COTS 2\n",
      "CRS-1\n",
      "CRS-2\n",
      "CASSIOPE\n",
      "SES-8\n",
      "Thaicom 6\n",
      "CRS-3\n",
      "OG-2 Mission 1\n",
      "AsiaSat 8\n",
      "AsiaSat 6\n",
      "CRS-4\n",
      "CRS-5\n",
      "DSCOVR\n",
      "ABS-3A / Eutelsat 115W B\n",
      "CRS-6\n",
      "TürkmenÄlem 52°E / MonacoSAT\n",
      "CRS-7\n",
      "OG-2 Mission 2\n",
      "Jason 3\n",
      "SES-9\n",
      "CRS-8\n",
      "JCSAT-2B\n",
      "Thaicom 8\n",
      "ABS-2A / Eutelsat 117W B\n",
      "CRS-9\n",
      "JCSAT-16\n",
      "Amos-6\n",
      "Iridium NEXT Mission 1\n",
      "CRS-10\n",
      "EchoStar 23\n",
      "SES-10\n",
      "NROL-76\n",
      "Inmarsat-5 F4\n",
      "CRS-11\n",
      "BulgariaSat-1\n",
      "Iridium NEXT Mission 2\n",
      "Intelsat 35e\n",
      "CRS-12\n",
      "FormoSat-5\n",
      "Boeing X-37B OTV-5\n",
      "Iridium NEXT Mission 3\n",
      "SES-11 / Echostar 105\n",
      "KoreaSat 5A\n",
      "CRS-13\n",
      "Iridium NEXT Mission 4\n",
      "ZUMA\n",
      "SES-16 / GovSat-1\n",
      "Falcon Heavy Test Flight\n",
      "Paz / Starlink Demo\n",
      "Hispasat 30W-6\n",
      "Iridium NEXT Mission 5\n",
      "CRS-14\n",
      "TESS\n",
      "Bangabandhu-1\n",
      "Iridium NEXT Mission 6\n",
      "SES-12\n",
      "CRS-15\n",
      "Telstar 19V\n",
      "Iridium NEXT Mission 7\n",
      "Merah Putih\n",
      "Telstar 18V\n",
      "SAOCOM 1A\n",
      "Es’hail 2\n",
      "SSO-A\n",
      "CRS-16\n",
      "GPS III SV01\n",
      "Iridium NEXT Mission 8\n",
      "Nusantara Satu (PSN-6) / S5 / Beresheet\n",
      "CCtCap Demo Mission 1\n",
      "ArabSat 6A\n",
      "CRS-17\n",
      "Starlink v0.9\n",
      "RADARSAT Constellation\n",
      "STP-2\n",
      "CRS-18\n",
      "Amos-17\n",
      "Starlink 1\n",
      "CRS-19\n",
      "JCSat 18 / Kacific 1\n",
      "Starlink 2\n",
      "Crew Dragon In Flight Abort Test\n",
      "Starlink 3\n",
      "Starlink 4\n",
      "CRS-20\n",
      "Starlink 5\n",
      "Starlink 6\n",
      "CCtCap Demo Mission 2\n",
      "Starlink 7\n",
      "Starlink-8 & SkySat 16-18\n",
      "GPS III SV03 (Columbus)\n",
      "ANASIS-II\n",
      "Starlink-9 (v1.0) & BlackSky Global 5-6\n",
      "Starlink-10 (v1.0) & SkySat 19-21\n",
      "SAOCOM 1B, GNOMES-1, Tyvak-0172\n",
      "Starlink-11 (v1.0)\n",
      "Starlink-12 (v1.0)\n",
      "Starlink-13 (v1.0)\n",
      "Starlink-14 (v1.0)\n",
      "GPS III SV04 (Sacagawea)\n",
      "Crew-1\n",
      "Sentinel-6 Michael Freilich\n",
      "Starlink-15 (v1.0)\n",
      "CRS-21\n",
      "SXM-7\n"
     ]
    }
   ],
   "source": [
    "for each_launch in data: \n",
    "    print(each_launch['mission_name'])\n",
    "#     flight_number.append(each_launch['flight_number'])\n",
    "#     mission_name.append(each_launch['mission_name'])\n",
    "#     mission_id.append(each_launch['mission_id'])\n",
    "#     launch_year.append(each_launch['launch_year'])\n",
    "#     launch_date_utc.append(each_launch['launch_date_utc'])\n",
    "#     rocket_id.append(each_launch['rocket']['rocket_id'])\n",
    "#     rocket_name.append(each_launch['rocket']['rocket_name'])\n",
    "#     rocket_type.append(each_launch['rocket']['rocket_type'])\n",
    "    for each_payload in each_launch['rocket']['second_stage']['payloads']: \n",
    "        flight_number.append(each_launch['flight_number'])\n",
    "        mission_name.append(each_launch['mission_name'])\n",
    "        mission_id.append(each_launch['mission_id'])\n",
    "        launch_year.append(each_launch['launch_year'])\n",
    "        launch_date_utc.append(each_launch['launch_date_utc'])\n",
    "        rocket_id.append(each_launch['rocket']['rocket_id'])\n",
    "        rocket_name.append(each_launch['rocket']['rocket_name'])\n",
    "        rocket_type.append(each_launch['rocket']['rocket_type'])\n",
    "        \n",
    "        payload_id.append(each_payload['payload_id'])\n",
    "        norad_id.append(each_payload['norad_id'])\n",
    "        customers.append(each_payload['customers'])\n",
    "        if 'nationality' in each_payload.keys(): \n",
    "            nationality.append(each_payload['nationality'])\n",
    "        else: \n",
    "            nationality.append('')\n",
    "        if 'manufacturer' in each_payload.keys(): \n",
    "            manufacturer.append(each_payload['manufacturer'])\n",
    "        else: \n",
    "            manufacturer.append('')\n",
    "        payload_type.append(each_payload['payload_type'])\n",
    "        payload_mass_lbs.append(each_payload['payload_mass_lbs'])\n",
    "        orbit.append(each_payload['orbit'])\n",
    "        \n",
    "        if each_launch['rocket']['fairings']: \n",
    "            fairings_reused.append(each_launch['rocket']['fairings']['reused'])\n",
    "            fairings_recovered.append(each_launch['rocket']['fairings']['recovered'])\n",
    "        else: \n",
    "            fairings_reused.append('')\n",
    "            fairings_recovered.append('')\n",
    "        launch_site_id.append(each_launch['launch_site']['site_id'])\n",
    "        launch_site_name.append(each_launch['launch_site']['site_name'])\n",
    "        launch_success.append(each_launch['launch_success'])"
   ]
  },
  {
   "cell_type": "code",
   "execution_count": 34,
   "id": "4a1bd4a0",
   "metadata": {},
   "outputs": [
    {
     "data": {
      "text/plain": [
       "136"
      ]
     },
     "metadata": {},
     "output_type": "display_data"
    },
    {
     "data": {
      "text/plain": [
       "136"
      ]
     },
     "metadata": {},
     "output_type": "display_data"
    },
    {
     "data": {
      "text/plain": [
       "136"
      ]
     },
     "metadata": {},
     "output_type": "display_data"
    },
    {
     "data": {
      "text/plain": [
       "136"
      ]
     },
     "metadata": {},
     "output_type": "display_data"
    },
    {
     "data": {
      "text/plain": [
       "136"
      ]
     },
     "metadata": {},
     "output_type": "display_data"
    },
    {
     "data": {
      "text/plain": [
       "136"
      ]
     },
     "metadata": {},
     "output_type": "display_data"
    },
    {
     "data": {
      "text/plain": [
       "136"
      ]
     },
     "metadata": {},
     "output_type": "display_data"
    },
    {
     "data": {
      "text/plain": [
       "136"
      ]
     },
     "metadata": {},
     "output_type": "display_data"
    },
    {
     "data": {
      "text/plain": [
       "136"
      ]
     },
     "metadata": {},
     "output_type": "display_data"
    },
    {
     "data": {
      "text/plain": [
       "136"
      ]
     },
     "metadata": {},
     "output_type": "display_data"
    },
    {
     "data": {
      "text/plain": [
       "136"
      ]
     },
     "metadata": {},
     "output_type": "display_data"
    },
    {
     "data": {
      "text/plain": [
       "136"
      ]
     },
     "metadata": {},
     "output_type": "display_data"
    },
    {
     "data": {
      "text/plain": [
       "136"
      ]
     },
     "metadata": {},
     "output_type": "display_data"
    },
    {
     "data": {
      "text/plain": [
       "136"
      ]
     },
     "metadata": {},
     "output_type": "display_data"
    },
    {
     "data": {
      "text/plain": [
       "136"
      ]
     },
     "metadata": {},
     "output_type": "display_data"
    },
    {
     "data": {
      "text/plain": [
       "136"
      ]
     },
     "metadata": {},
     "output_type": "display_data"
    },
    {
     "data": {
      "text/plain": [
       "136"
      ]
     },
     "metadata": {},
     "output_type": "display_data"
    },
    {
     "data": {
      "text/plain": [
       "136"
      ]
     },
     "metadata": {},
     "output_type": "display_data"
    },
    {
     "data": {
      "text/plain": [
       "136"
      ]
     },
     "metadata": {},
     "output_type": "display_data"
    },
    {
     "data": {
      "text/plain": [
       "136"
      ]
     },
     "metadata": {},
     "output_type": "display_data"
    },
    {
     "data": {
      "text/plain": [
       "136"
      ]
     },
     "metadata": {},
     "output_type": "display_data"
    }
   ],
   "source": [
    "display(len(flight_number))\n",
    "display(len(mission_name))\n",
    "display(len(mission_id))\n",
    "display(len(launch_year))\n",
    "display(len(launch_date_utc))\n",
    "display(len(rocket_id))\n",
    "display(len(rocket_name))\n",
    "display(len(rocket_type))\n",
    "display(len(payload_id))\n",
    "display(len(norad_id))\n",
    "display(len(customers))\n",
    "display(len(nationality))\n",
    "display(len(manufacturer))\n",
    "display(len(payload_type))\n",
    "display(len(payload_mass_lbs))\n",
    "display(len(orbit))\n",
    "display(len(fairings_reused))\n",
    "display(len(fairings_recovered))\n",
    "display(len(launch_site_id))\n",
    "display(len(launch_site_name))\n",
    "display(len(launch_success))"
   ]
  },
  {
   "cell_type": "code",
   "execution_count": 38,
   "id": "67b9f2cc",
   "metadata": {},
   "outputs": [],
   "source": [
    "pd.DataFrame({'flight_number': flight_number, \n",
    "              'mission_name': mission_name, \n",
    "              'mission_id': mission_id, \n",
    "              'launch_year': launch_year, \n",
    "              'launch_date_utc': launch_date_utc, \n",
    "              'rocket_id': rocket_id, \n",
    "              'rocket_name': rocket_name, \n",
    "              'rocket_type': rocket_type, \n",
    "              'payload_id': payload_id, \n",
    "              'norad_id': norad_id, \n",
    "              'customers': customers, \n",
    "              'nationality': nationality, \n",
    "              'manufacturer': manufacturer, \n",
    "              'payload_type': payload_type, \n",
    "              'payload_mass_lbs': payload_mass_lbs, \n",
    "              'orbit': orbit, \n",
    "              'fairings_reused': fairings_reused, \n",
    "              'fairings_recovered': fairings_recovered, \n",
    "              'launch_site_id': launch_site_id, \n",
    "              'launch_site_name': launch_site_name, \n",
    "              'launch_success': launch_success}).to_csv('spaceX.csv')"
   ]
  },
  {
   "cell_type": "code",
   "execution_count": 30,
   "id": "00f8b47d",
   "metadata": {},
   "outputs": [
    {
     "data": {
      "text/plain": [
       "111"
      ]
     },
     "execution_count": 30,
     "metadata": {},
     "output_type": "execute_result"
    }
   ],
   "source": [
    "len(pd.DataFrame(data))"
   ]
  },
  {
   "cell_type": "code",
   "execution_count": 37,
   "id": "4b0469bf",
   "metadata": {},
   "outputs": [
    {
     "name": "stdout",
     "output_type": "stream",
     "text": [
      "136\n"
     ]
    }
   ],
   "source": [
    "total_payloads=0\n",
    "for each_launch in data: \n",
    "    for each_payload in each_launch['rocket']['second_stage']['payloads']: \n",
    "        total_payloads+=1\n",
    "print(total_payloads)"
   ]
  },
  {
   "cell_type": "code",
   "execution_count": null,
   "id": "32c50e20",
   "metadata": {},
   "outputs": [],
   "source": []
  }
 ],
 "metadata": {
  "kernelspec": {
   "display_name": "Python 3",
   "language": "python",
   "name": "python3"
  },
  "language_info": {
   "codemirror_mode": {
    "name": "ipython",
    "version": 3
   },
   "file_extension": ".py",
   "mimetype": "text/x-python",
   "name": "python",
   "nbconvert_exporter": "python",
   "pygments_lexer": "ipython3",
   "version": "3.7.1"
  }
 },
 "nbformat": 4,
 "nbformat_minor": 5
}
